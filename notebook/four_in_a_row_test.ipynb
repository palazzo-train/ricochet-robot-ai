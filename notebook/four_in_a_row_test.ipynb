{
 "cells": [
  {
   "cell_type": "code",
   "execution_count": 1,
   "metadata": {},
   "outputs": [],
   "source": [
    "import numpy as np\n",
    "#import gym\n",
    "import sys\n",
    "from PIL import Image\n",
    "from matplotlib.pyplot import imshow\n",
    "import matplotlib.pyplot as plt\n",
    "import matplotlib\n",
    "\n",
    "\n",
    "%matplotlib inline\n",
    "#fig, ax = plt.subplots(figsize=(20, 10)) \n",
    "#fig, ax = plt.subplots(figsize=(18, 2))\n",
    "#ax.imshow(random.rand(8, 90), interpolation='nearest')\n",
    "#tight_layout()\n",
    "\n",
    "#fig = matplotlib.pyplot.gcf()\n",
    "#fig.set_size_inches(20,20)\n",
    "\n",
    "sys.path.append('../src')\n",
    "sys.path.append('../src/envs')\n",
    "sys.path.append('../src/game_generator')\n",
    "sys.path.append('../src/agents')\n",
    "sys.path.append('../src/utils')\n",
    "\n",
    "def showim(buffer):\n",
    "    fig, ax = plt.subplots(figsize=(9, 9))\n",
    "    #ax.imshow(random.rand(8, 90), interpolation='nearest')\n",
    "    ax.imshow(buffer,interpolation='nearest',aspect='auto')"
   ]
  },
  {
   "cell_type": "code",
   "execution_count": 2,
   "metadata": {},
   "outputs": [],
   "source": [
    "from four_in_a_row_env import FourInARowEnv"
   ]
  },
  {
   "cell_type": "code",
   "execution_count": 3,
   "metadata": {},
   "outputs": [],
   "source": [
    "env = FourInARowEnv()"
   ]
  },
  {
   "cell_type": "code",
   "execution_count": 5,
   "metadata": {},
   "outputs": [
    {
     "data": {
      "text/plain": [
       "(array([[0, 0, 0, 0, 0, 0, 0],\n",
       "        [0, 0, 0, 0, 0, 0, 0],\n",
       "        [0, 0, 0, 0, 0, 0, 0],\n",
       "        [0, 0, 0, 0, 0, 0, 0],\n",
       "        [0, 0, 0, 0, 0, 0, 0],\n",
       "        [0, 0, 0, 0, 0, 0, 0]]), -1, -1)"
      ]
     },
     "execution_count": 5,
     "metadata": {},
     "output_type": "execute_result"
    }
   ],
   "source": [
    "state = env.reset()\n",
    "state"
   ]
  },
  {
   "cell_type": "code",
   "execution_count": 6,
   "metadata": {
    "scrolled": true
   },
   "outputs": [
    {
     "name": "stdout",
     "output_type": "stream",
     "text": [
      "check win\n",
      "(-1, 4, 6)\n",
      "check win\n",
      "(1, 4, 2)\n"
     ]
    },
    {
     "data": {
      "text/plain": [
       "((array([[ 0,  0,  0,  0,  0,  0,  0],\n",
       "         [ 0,  0,  0,  0,  0,  0,  0],\n",
       "         [ 0,  0,  0,  0,  0,  0,  0],\n",
       "         [ 0,  0,  0,  0,  0,  0,  0],\n",
       "         [ 0,  0,  0,  0,  0,  0,  0],\n",
       "         [ 0,  0,  1,  0,  0,  0, -1]]), 4, 6), 0, False, '')"
      ]
     },
     "execution_count": 6,
     "metadata": {},
     "output_type": "execute_result"
    }
   ],
   "source": [
    "env.step( 6)"
   ]
  },
  {
   "cell_type": "code",
   "execution_count": 7,
   "metadata": {
    "scrolled": true
   },
   "outputs": [
    {
     "name": "stdout",
     "output_type": "stream",
     "text": [
      "check win\n",
      "(-1, 4, 5)\n",
      "check win\n",
      "(1, 3, 5)\n"
     ]
    },
    {
     "data": {
      "text/plain": [
       "((array([[ 0,  0,  0,  0,  0,  0,  0],\n",
       "         [ 0,  0,  0,  0,  0,  0,  0],\n",
       "         [ 0,  0,  0,  0,  0,  0,  0],\n",
       "         [ 0,  0,  0,  0,  0,  0,  0],\n",
       "         [ 0,  0,  0,  0,  0,  1,  0],\n",
       "         [ 0,  0,  1,  0,  0, -1, -1]]), 4, 5), 0, False, '')"
      ]
     },
     "execution_count": 7,
     "metadata": {},
     "output_type": "execute_result"
    }
   ],
   "source": [
    "env.step( 5)"
   ]
  },
  {
   "cell_type": "code",
   "execution_count": 8,
   "metadata": {},
   "outputs": [
    {
     "name": "stdout",
     "output_type": "stream",
     "text": [
      "check win\n",
      "(-1, 4, 4)\n",
      "check win\n",
      "(1, 2, 5)\n"
     ]
    },
    {
     "data": {
      "text/plain": [
       "((array([[ 0,  0,  0,  0,  0,  0,  0],\n",
       "         [ 0,  0,  0,  0,  0,  0,  0],\n",
       "         [ 0,  0,  0,  0,  0,  0,  0],\n",
       "         [ 0,  0,  0,  0,  0,  1,  0],\n",
       "         [ 0,  0,  0,  0,  0,  1,  0],\n",
       "         [ 0,  0,  1,  0, -1, -1, -1]]), 4, 4), 0, False, '')"
      ]
     },
     "execution_count": 8,
     "metadata": {},
     "output_type": "execute_result"
    }
   ],
   "source": [
    "env.step( 4)"
   ]
  },
  {
   "cell_type": "code",
   "execution_count": 9,
   "metadata": {},
   "outputs": [
    {
     "name": "stdout",
     "output_type": "stream",
     "text": [
      "check win\n",
      "(-1, 4, 3)\n",
      "check win\n",
      "(1, 4, 1)\n"
     ]
    },
    {
     "data": {
      "text/plain": [
       "((array([[ 0,  0,  0,  0,  0,  0,  0],\n",
       "         [ 0,  0,  0,  0,  0,  0,  0],\n",
       "         [ 0,  0,  0,  0,  0,  0,  0],\n",
       "         [ 0,  0,  0,  0,  0,  1,  0],\n",
       "         [ 0,  0,  0,  0,  0,  1,  0],\n",
       "         [ 0,  1,  1, -1, -1, -1, -1]]), 4, 3), 0, False, '')"
      ]
     },
     "execution_count": 9,
     "metadata": {},
     "output_type": "execute_result"
    }
   ],
   "source": [
    "env.step( 3)"
   ]
  },
  {
   "cell_type": "code",
   "execution_count": 24,
   "metadata": {},
   "outputs": [
    {
     "data": {
      "text/plain": [
       "((array([[ 0,  0,  0,  0,  0,  0,  0],\n",
       "         [ 0,  0,  0,  0,  0,  0,  0],\n",
       "         [ 0,  0,  1,  0,  0,  0, -1],\n",
       "         [ 0,  0,  1,  0,  0,  0,  1],\n",
       "         [ 0,  0,  1,  0,  0,  0, -1],\n",
       "         [ 0,  0,  1,  0, -1, -1, -1]]), 4, 4), -1, True, '')"
      ]
     },
     "execution_count": 24,
     "metadata": {},
     "output_type": "execute_result"
    }
   ],
   "source": [
    "env.step( 4)"
   ]
  },
  {
   "cell_type": "code",
   "execution_count": 10,
   "metadata": {},
   "outputs": [
    {
     "data": {
      "text/plain": [
       "((array([[ 0,  0,  0,  0,  0,  0,  0],\n",
       "         [ 0,  0,  0,  0,  0,  0,  0],\n",
       "         [ 0,  0,  0,  0,  0,  0,  0],\n",
       "         [-1,  0,  0,  0,  0,  0, -1],\n",
       "         [ 1,  1,  0,  0,  0,  1, -1],\n",
       "         [ 1,  1,  1,  0, -1, -1, -1]]), 4, 4), 0, False, '')"
      ]
     },
     "execution_count": 10,
     "metadata": {},
     "output_type": "execute_result"
    }
   ],
   "source": [
    "env.step( 4)"
   ]
  },
  {
   "cell_type": "code",
   "execution_count": 11,
   "metadata": {},
   "outputs": [
    {
     "data": {
      "text/plain": [
       "((array([[ 0,  0,  0,  0,  0,  0,  0],\n",
       "         [ 0,  0,  0,  0,  0,  0,  0],\n",
       "         [ 0,  0,  0,  0,  0,  0,  0],\n",
       "         [-1,  0,  0,  0,  0,  0, -1],\n",
       "         [ 1,  1,  0,  0,  1,  1, -1],\n",
       "         [ 1,  1,  1, -1, -1, -1, -1]]), 4, 3), 0, False, '')"
      ]
     },
     "execution_count": 11,
     "metadata": {},
     "output_type": "execute_result"
    }
   ],
   "source": [
    "env.step( 3)"
   ]
  },
  {
   "cell_type": "code",
   "execution_count": 19,
   "metadata": {},
   "outputs": [
    {
     "data": {
      "text/plain": [
       "3"
      ]
     },
     "execution_count": 19,
     "metadata": {},
     "output_type": "execute_result"
    }
   ],
   "source": [
    "np.random.choice( [ 1, 3 ,4 ,5])"
   ]
  },
  {
   "cell_type": "code",
   "execution_count": 22,
   "metadata": {},
   "outputs": [],
   "source": [
    "a = np.random.randint( -1 , 1 , ( 6,7) ).astype(int)"
   ]
  },
  {
   "cell_type": "code",
   "execution_count": 18,
   "metadata": {},
   "outputs": [
    {
     "data": {
      "text/plain": [
       "array([[ 0,  0,  0,  0,  0,  0,  0],\n",
       "       [ 0,  0,  0,  0,  0,  0,  0],\n",
       "       [ 0,  0,  0,  0,  0,  0,  0],\n",
       "       [-1,  0,  0,  0,  0,  0, -1],\n",
       "       [ 1,  1,  0,  0,  1,  1, -1],\n",
       "       [ 1,  1,  1, -1, -1, -1, -1]])"
      ]
     },
     "execution_count": 18,
     "metadata": {},
     "output_type": "execute_result"
    }
   ],
   "source": [
    "env.board"
   ]
  },
  {
   "cell_type": "code",
   "execution_count": 17,
   "metadata": {},
   "outputs": [
    {
     "name": "stdout",
     "output_type": "stream",
     "text": [
      "[1 1 0 0]\n",
      "False\n",
      "[1 0 0 1]\n",
      "False\n",
      "[0 0 1 1]\n",
      "False\n",
      "[ 0  1  1 -1]\n",
      "False\n"
     ]
    },
    {
     "data": {
      "text/plain": [
       "array([ 1,  1,  0,  0,  1,  1, -1])"
      ]
     },
     "execution_count": 17,
     "metadata": {},
     "output_type": "execute_result"
    }
   ],
   "source": [
    "for i in range( 0 , env.in_row_count):\n",
    "    a = np.sum( env.board[ 4, i:i+env.in_row_count]) == (4 * env.in_row_count )\n",
    "    print(env.board[ 4, i:i+env.in_row_count])\n",
    "    print (a)\n",
    "\n",
    "env.board[4, :]"
   ]
  },
  {
   "cell_type": "code",
   "execution_count": 12,
   "metadata": {},
   "outputs": [
    {
     "data": {
      "text/plain": [
       "array([[ 0,  0,  0,  0,  0,  0,  0],\n",
       "       [ 0,  0,  0,  0,  0,  0,  0],\n",
       "       [ 0,  0,  0,  0,  0,  0,  0],\n",
       "       [-1,  0,  0,  0,  0,  0, -1],\n",
       "       [ 1,  1,  0,  0,  1,  1, -1],\n",
       "       [ 1,  1,  1, -1, -1, -1, -1]])"
      ]
     },
     "execution_count": 12,
     "metadata": {},
     "output_type": "execute_result"
    }
   ],
   "source": [
    "env.board"
   ]
  },
  {
   "cell_type": "code",
   "execution_count": 36,
   "metadata": {},
   "outputs": [
    {
     "data": {
      "text/plain": [
       "(array([0, 4, 6], dtype=int64),)"
      ]
     },
     "execution_count": 36,
     "metadata": {},
     "output_type": "execute_result"
    }
   ],
   "source": [
    "np.where( a[0,:] == 0)\n"
   ]
  },
  {
   "cell_type": "code",
   "execution_count": 29,
   "metadata": {},
   "outputs": [
    {
     "data": {
      "text/plain": [
       "array([[ 0,  1, -1, -1,  0, -1,  0],\n",
       "       [-1,  0,  0,  0, -1,  0, -1],\n",
       "       [ 0, -1,  0, -1,  0, -1, -1],\n",
       "       [ 0,  0,  0, -1,  0, -1,  0],\n",
       "       [-1,  0, -1,  0, -1, -1,  0],\n",
       "       [-1, -1,  0,  0, -1,  0,  0]])"
      ]
     },
     "execution_count": 29,
     "metadata": {},
     "output_type": "execute_result"
    }
   ],
   "source": [
    "a"
   ]
  },
  {
   "cell_type": "code",
   "execution_count": null,
   "metadata": {},
   "outputs": [],
   "source": []
  }
 ],
 "metadata": {
  "kernelspec": {
   "display_name": "Python 3",
   "language": "python",
   "name": "python3"
  },
  "language_info": {
   "codemirror_mode": {
    "name": "ipython",
    "version": 3
   },
   "file_extension": ".py",
   "mimetype": "text/x-python",
   "name": "python",
   "nbconvert_exporter": "python",
   "pygments_lexer": "ipython3",
   "version": "3.6.7"
  }
 },
 "nbformat": 4,
 "nbformat_minor": 2
}
