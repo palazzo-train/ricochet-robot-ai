{
 "cells": [
  {
   "cell_type": "code",
   "execution_count": 1,
   "metadata": {},
   "outputs": [],
   "source": [
    "import numpy as np\n",
    "#import gym\n",
    "import sys\n",
    "from PIL import Image\n",
    "from matplotlib.pyplot import imshow\n",
    "import matplotlib.pyplot as plt\n",
    "import matplotlib\n",
    "\n",
    "\n",
    "%matplotlib inline\n",
    "#fig, ax = plt.subplots(figsize=(20, 10)) \n",
    "#fig, ax = plt.subplots(figsize=(18, 2))\n",
    "#ax.imshow(random.rand(8, 90), interpolation='nearest')\n",
    "#tight_layout()\n",
    "\n",
    "#fig = matplotlib.pyplot.gcf()\n",
    "#fig.set_size_inches(20,20)\n",
    "\n",
    "sys.path.append('../src')\n",
    "sys.path.append('../src/envs')\n",
    "sys.path.append('../src/game_generator')\n",
    "sys.path.append('../src/agents')\n",
    "sys.path.append('../src/utils')\n",
    "\n",
    "def showim(buffer):\n",
    "    fig, ax = plt.subplots(figsize=(9, 9))\n",
    "    #ax.imshow(random.rand(8, 90), interpolation='nearest')\n",
    "    ax.imshow(buffer,interpolation='nearest',aspect='auto')"
   ]
  },
  {
   "cell_type": "code",
   "execution_count": 2,
   "metadata": {},
   "outputs": [
    {
     "name": "stderr",
     "output_type": "stream",
     "text": [
      "Using TensorFlow backend.\n"
     ]
    }
   ],
   "source": [
    "from four_in_a_row_env import FourInARowEnv\n",
    "from four_dqn_agent import DQNAgent\n",
    "from simulation import Experiment\n",
    "from utils import helper"
   ]
  },
  {
   "cell_type": "code",
   "execution_count": null,
   "metadata": {},
   "outputs": [],
   "source": []
  },
  {
   "cell_type": "code",
   "execution_count": null,
   "metadata": {},
   "outputs": [],
   "source": []
  },
  {
   "cell_type": "code",
   "execution_count": 3,
   "metadata": {},
   "outputs": [],
   "source": [
    "agent = DQNAgent( state_size = 6*7 , action_size = 7)"
   ]
  },
  {
   "cell_type": "code",
   "execution_count": null,
   "metadata": {},
   "outputs": [],
   "source": [
    "env = FourInARowEnv()"
   ]
  },
  {
   "cell_type": "code",
   "execution_count": null,
   "metadata": {},
   "outputs": [
    {
     "data": {
      "application/javascript": [
       "/* Put everything inside the global mpl namespace */\n",
       "window.mpl = {};\n",
       "\n",
       "\n",
       "mpl.get_websocket_type = function() {\n",
       "    if (typeof(WebSocket) !== 'undefined') {\n",
       "        return WebSocket;\n",
       "    } else if (typeof(MozWebSocket) !== 'undefined') {\n",
       "        return MozWebSocket;\n",
       "    } else {\n",
       "        alert('Your browser does not have WebSocket support.' +\n",
       "              'Please try Chrome, Safari or Firefox ≥ 6. ' +\n",
       "              'Firefox 4 and 5 are also supported but you ' +\n",
       "              'have to enable WebSockets in about:config.');\n",
       "    };\n",
       "}\n",
       "\n",
       "mpl.figure = function(figure_id, websocket, ondownload, parent_element) {\n",
       "    this.id = figure_id;\n",
       "\n",
       "    this.ws = websocket;\n",
       "\n",
       "    this.supports_binary = (this.ws.binaryType != undefined);\n",
       "\n",
       "    if (!this.supports_binary) {\n",
       "        var warnings = document.getElementById(\"mpl-warnings\");\n",
       "        if (warnings) {\n",
       "            warnings.style.display = 'block';\n",
       "            warnings.textContent = (\n",
       "                \"This browser does not support binary websocket messages. \" +\n",
       "                    \"Performance may be slow.\");\n",
       "        }\n",
       "    }\n",
       "\n",
       "    this.imageObj = new Image();\n",
       "\n",
       "    this.context = undefined;\n",
       "    this.message = undefined;\n",
       "    this.canvas = undefined;\n",
       "    this.rubberband_canvas = undefined;\n",
       "    this.rubberband_context = undefined;\n",
       "    this.format_dropdown = undefined;\n",
       "\n",
       "    this.image_mode = 'full';\n",
       "\n",
       "    this.root = $('<div/>');\n",
       "    this._root_extra_style(this.root)\n",
       "    this.root.attr('style', 'display: inline-block');\n",
       "\n",
       "    $(parent_element).append(this.root);\n",
       "\n",
       "    this._init_header(this);\n",
       "    this._init_canvas(this);\n",
       "    this._init_toolbar(this);\n",
       "\n",
       "    var fig = this;\n",
       "\n",
       "    this.waiting = false;\n",
       "\n",
       "    this.ws.onopen =  function () {\n",
       "            fig.send_message(\"supports_binary\", {value: fig.supports_binary});\n",
       "            fig.send_message(\"send_image_mode\", {});\n",
       "            if (mpl.ratio != 1) {\n",
       "                fig.send_message(\"set_dpi_ratio\", {'dpi_ratio': mpl.ratio});\n",
       "            }\n",
       "            fig.send_message(\"refresh\", {});\n",
       "        }\n",
       "\n",
       "    this.imageObj.onload = function() {\n",
       "            if (fig.image_mode == 'full') {\n",
       "                // Full images could contain transparency (where diff images\n",
       "                // almost always do), so we need to clear the canvas so that\n",
       "                // there is no ghosting.\n",
       "                fig.context.clearRect(0, 0, fig.canvas.width, fig.canvas.height);\n",
       "            }\n",
       "            fig.context.drawImage(fig.imageObj, 0, 0);\n",
       "        };\n",
       "\n",
       "    this.imageObj.onunload = function() {\n",
       "        fig.ws.close();\n",
       "    }\n",
       "\n",
       "    this.ws.onmessage = this._make_on_message_function(this);\n",
       "\n",
       "    this.ondownload = ondownload;\n",
       "}\n",
       "\n",
       "mpl.figure.prototype._init_header = function() {\n",
       "    var titlebar = $(\n",
       "        '<div class=\"ui-dialog-titlebar ui-widget-header ui-corner-all ' +\n",
       "        'ui-helper-clearfix\"/>');\n",
       "    var titletext = $(\n",
       "        '<div class=\"ui-dialog-title\" style=\"width: 100%; ' +\n",
       "        'text-align: center; padding: 3px;\"/>');\n",
       "    titlebar.append(titletext)\n",
       "    this.root.append(titlebar);\n",
       "    this.header = titletext[0];\n",
       "}\n",
       "\n",
       "\n",
       "\n",
       "mpl.figure.prototype._canvas_extra_style = function(canvas_div) {\n",
       "\n",
       "}\n",
       "\n",
       "\n",
       "mpl.figure.prototype._root_extra_style = function(canvas_div) {\n",
       "\n",
       "}\n",
       "\n",
       "mpl.figure.prototype._init_canvas = function() {\n",
       "    var fig = this;\n",
       "\n",
       "    var canvas_div = $('<div/>');\n",
       "\n",
       "    canvas_div.attr('style', 'position: relative; clear: both; outline: 0');\n",
       "\n",
       "    function canvas_keyboard_event(event) {\n",
       "        return fig.key_event(event, event['data']);\n",
       "    }\n",
       "\n",
       "    canvas_div.keydown('key_press', canvas_keyboard_event);\n",
       "    canvas_div.keyup('key_release', canvas_keyboard_event);\n",
       "    this.canvas_div = canvas_div\n",
       "    this._canvas_extra_style(canvas_div)\n",
       "    this.root.append(canvas_div);\n",
       "\n",
       "    var canvas = $('<canvas/>');\n",
       "    canvas.addClass('mpl-canvas');\n",
       "    canvas.attr('style', \"left: 0; top: 0; z-index: 0; outline: 0\")\n",
       "\n",
       "    this.canvas = canvas[0];\n",
       "    this.context = canvas[0].getContext(\"2d\");\n",
       "\n",
       "    var backingStore = this.context.backingStorePixelRatio ||\n",
       "\tthis.context.webkitBackingStorePixelRatio ||\n",
       "\tthis.context.mozBackingStorePixelRatio ||\n",
       "\tthis.context.msBackingStorePixelRatio ||\n",
       "\tthis.context.oBackingStorePixelRatio ||\n",
       "\tthis.context.backingStorePixelRatio || 1;\n",
       "\n",
       "    mpl.ratio = (window.devicePixelRatio || 1) / backingStore;\n",
       "\n",
       "    var rubberband = $('<canvas/>');\n",
       "    rubberband.attr('style', \"position: absolute; left: 0; top: 0; z-index: 1;\")\n",
       "\n",
       "    var pass_mouse_events = true;\n",
       "\n",
       "    canvas_div.resizable({\n",
       "        start: function(event, ui) {\n",
       "            pass_mouse_events = false;\n",
       "        },\n",
       "        resize: function(event, ui) {\n",
       "            fig.request_resize(ui.size.width, ui.size.height);\n",
       "        },\n",
       "        stop: function(event, ui) {\n",
       "            pass_mouse_events = true;\n",
       "            fig.request_resize(ui.size.width, ui.size.height);\n",
       "        },\n",
       "    });\n",
       "\n",
       "    function mouse_event_fn(event) {\n",
       "        if (pass_mouse_events)\n",
       "            return fig.mouse_event(event, event['data']);\n",
       "    }\n",
       "\n",
       "    rubberband.mousedown('button_press', mouse_event_fn);\n",
       "    rubberband.mouseup('button_release', mouse_event_fn);\n",
       "    // Throttle sequential mouse events to 1 every 20ms.\n",
       "    rubberband.mousemove('motion_notify', mouse_event_fn);\n",
       "\n",
       "    rubberband.mouseenter('figure_enter', mouse_event_fn);\n",
       "    rubberband.mouseleave('figure_leave', mouse_event_fn);\n",
       "\n",
       "    canvas_div.on(\"wheel\", function (event) {\n",
       "        event = event.originalEvent;\n",
       "        event['data'] = 'scroll'\n",
       "        if (event.deltaY < 0) {\n",
       "            event.step = 1;\n",
       "        } else {\n",
       "            event.step = -1;\n",
       "        }\n",
       "        mouse_event_fn(event);\n",
       "    });\n",
       "\n",
       "    canvas_div.append(canvas);\n",
       "    canvas_div.append(rubberband);\n",
       "\n",
       "    this.rubberband = rubberband;\n",
       "    this.rubberband_canvas = rubberband[0];\n",
       "    this.rubberband_context = rubberband[0].getContext(\"2d\");\n",
       "    this.rubberband_context.strokeStyle = \"#000000\";\n",
       "\n",
       "    this._resize_canvas = function(width, height) {\n",
       "        // Keep the size of the canvas, canvas container, and rubber band\n",
       "        // canvas in synch.\n",
       "        canvas_div.css('width', width)\n",
       "        canvas_div.css('height', height)\n",
       "\n",
       "        canvas.attr('width', width * mpl.ratio);\n",
       "        canvas.attr('height', height * mpl.ratio);\n",
       "        canvas.attr('style', 'width: ' + width + 'px; height: ' + height + 'px;');\n",
       "\n",
       "        rubberband.attr('width', width);\n",
       "        rubberband.attr('height', height);\n",
       "    }\n",
       "\n",
       "    // Set the figure to an initial 600x600px, this will subsequently be updated\n",
       "    // upon first draw.\n",
       "    this._resize_canvas(600, 600);\n",
       "\n",
       "    // Disable right mouse context menu.\n",
       "    $(this.rubberband_canvas).bind(\"contextmenu\",function(e){\n",
       "        return false;\n",
       "    });\n",
       "\n",
       "    function set_focus () {\n",
       "        canvas.focus();\n",
       "        canvas_div.focus();\n",
       "    }\n",
       "\n",
       "    window.setTimeout(set_focus, 100);\n",
       "}\n",
       "\n",
       "mpl.figure.prototype._init_toolbar = function() {\n",
       "    var fig = this;\n",
       "\n",
       "    var nav_element = $('<div/>')\n",
       "    nav_element.attr('style', 'width: 100%');\n",
       "    this.root.append(nav_element);\n",
       "\n",
       "    // Define a callback function for later on.\n",
       "    function toolbar_event(event) {\n",
       "        return fig.toolbar_button_onclick(event['data']);\n",
       "    }\n",
       "    function toolbar_mouse_event(event) {\n",
       "        return fig.toolbar_button_onmouseover(event['data']);\n",
       "    }\n",
       "\n",
       "    for(var toolbar_ind in mpl.toolbar_items) {\n",
       "        var name = mpl.toolbar_items[toolbar_ind][0];\n",
       "        var tooltip = mpl.toolbar_items[toolbar_ind][1];\n",
       "        var image = mpl.toolbar_items[toolbar_ind][2];\n",
       "        var method_name = mpl.toolbar_items[toolbar_ind][3];\n",
       "\n",
       "        if (!name) {\n",
       "            // put a spacer in here.\n",
       "            continue;\n",
       "        }\n",
       "        var button = $('<button/>');\n",
       "        button.addClass('ui-button ui-widget ui-state-default ui-corner-all ' +\n",
       "                        'ui-button-icon-only');\n",
       "        button.attr('role', 'button');\n",
       "        button.attr('aria-disabled', 'false');\n",
       "        button.click(method_name, toolbar_event);\n",
       "        button.mouseover(tooltip, toolbar_mouse_event);\n",
       "\n",
       "        var icon_img = $('<span/>');\n",
       "        icon_img.addClass('ui-button-icon-primary ui-icon');\n",
       "        icon_img.addClass(image);\n",
       "        icon_img.addClass('ui-corner-all');\n",
       "\n",
       "        var tooltip_span = $('<span/>');\n",
       "        tooltip_span.addClass('ui-button-text');\n",
       "        tooltip_span.html(tooltip);\n",
       "\n",
       "        button.append(icon_img);\n",
       "        button.append(tooltip_span);\n",
       "\n",
       "        nav_element.append(button);\n",
       "    }\n",
       "\n",
       "    var fmt_picker_span = $('<span/>');\n",
       "\n",
       "    var fmt_picker = $('<select/>');\n",
       "    fmt_picker.addClass('mpl-toolbar-option ui-widget ui-widget-content');\n",
       "    fmt_picker_span.append(fmt_picker);\n",
       "    nav_element.append(fmt_picker_span);\n",
       "    this.format_dropdown = fmt_picker[0];\n",
       "\n",
       "    for (var ind in mpl.extensions) {\n",
       "        var fmt = mpl.extensions[ind];\n",
       "        var option = $(\n",
       "            '<option/>', {selected: fmt === mpl.default_extension}).html(fmt);\n",
       "        fmt_picker.append(option)\n",
       "    }\n",
       "\n",
       "    // Add hover states to the ui-buttons\n",
       "    $( \".ui-button\" ).hover(\n",
       "        function() { $(this).addClass(\"ui-state-hover\");},\n",
       "        function() { $(this).removeClass(\"ui-state-hover\");}\n",
       "    );\n",
       "\n",
       "    var status_bar = $('<span class=\"mpl-message\"/>');\n",
       "    nav_element.append(status_bar);\n",
       "    this.message = status_bar[0];\n",
       "}\n",
       "\n",
       "mpl.figure.prototype.request_resize = function(x_pixels, y_pixels) {\n",
       "    // Request matplotlib to resize the figure. Matplotlib will then trigger a resize in the client,\n",
       "    // which will in turn request a refresh of the image.\n",
       "    this.send_message('resize', {'width': x_pixels, 'height': y_pixels});\n",
       "}\n",
       "\n",
       "mpl.figure.prototype.send_message = function(type, properties) {\n",
       "    properties['type'] = type;\n",
       "    properties['figure_id'] = this.id;\n",
       "    this.ws.send(JSON.stringify(properties));\n",
       "}\n",
       "\n",
       "mpl.figure.prototype.send_draw_message = function() {\n",
       "    if (!this.waiting) {\n",
       "        this.waiting = true;\n",
       "        this.ws.send(JSON.stringify({type: \"draw\", figure_id: this.id}));\n",
       "    }\n",
       "}\n",
       "\n",
       "\n",
       "mpl.figure.prototype.handle_save = function(fig, msg) {\n",
       "    var format_dropdown = fig.format_dropdown;\n",
       "    var format = format_dropdown.options[format_dropdown.selectedIndex].value;\n",
       "    fig.ondownload(fig, format);\n",
       "}\n",
       "\n",
       "\n",
       "mpl.figure.prototype.handle_resize = function(fig, msg) {\n",
       "    var size = msg['size'];\n",
       "    if (size[0] != fig.canvas.width || size[1] != fig.canvas.height) {\n",
       "        fig._resize_canvas(size[0], size[1]);\n",
       "        fig.send_message(\"refresh\", {});\n",
       "    };\n",
       "}\n",
       "\n",
       "mpl.figure.prototype.handle_rubberband = function(fig, msg) {\n",
       "    var x0 = msg['x0'] / mpl.ratio;\n",
       "    var y0 = (fig.canvas.height - msg['y0']) / mpl.ratio;\n",
       "    var x1 = msg['x1'] / mpl.ratio;\n",
       "    var y1 = (fig.canvas.height - msg['y1']) / mpl.ratio;\n",
       "    x0 = Math.floor(x0) + 0.5;\n",
       "    y0 = Math.floor(y0) + 0.5;\n",
       "    x1 = Math.floor(x1) + 0.5;\n",
       "    y1 = Math.floor(y1) + 0.5;\n",
       "    var min_x = Math.min(x0, x1);\n",
       "    var min_y = Math.min(y0, y1);\n",
       "    var width = Math.abs(x1 - x0);\n",
       "    var height = Math.abs(y1 - y0);\n",
       "\n",
       "    fig.rubberband_context.clearRect(\n",
       "        0, 0, fig.canvas.width, fig.canvas.height);\n",
       "\n",
       "    fig.rubberband_context.strokeRect(min_x, min_y, width, height);\n",
       "}\n",
       "\n",
       "mpl.figure.prototype.handle_figure_label = function(fig, msg) {\n",
       "    // Updates the figure title.\n",
       "    fig.header.textContent = msg['label'];\n",
       "}\n",
       "\n",
       "mpl.figure.prototype.handle_cursor = function(fig, msg) {\n",
       "    var cursor = msg['cursor'];\n",
       "    switch(cursor)\n",
       "    {\n",
       "    case 0:\n",
       "        cursor = 'pointer';\n",
       "        break;\n",
       "    case 1:\n",
       "        cursor = 'default';\n",
       "        break;\n",
       "    case 2:\n",
       "        cursor = 'crosshair';\n",
       "        break;\n",
       "    case 3:\n",
       "        cursor = 'move';\n",
       "        break;\n",
       "    }\n",
       "    fig.rubberband_canvas.style.cursor = cursor;\n",
       "}\n",
       "\n",
       "mpl.figure.prototype.handle_message = function(fig, msg) {\n",
       "    fig.message.textContent = msg['message'];\n",
       "}\n",
       "\n",
       "mpl.figure.prototype.handle_draw = function(fig, msg) {\n",
       "    // Request the server to send over a new figure.\n",
       "    fig.send_draw_message();\n",
       "}\n",
       "\n",
       "mpl.figure.prototype.handle_image_mode = function(fig, msg) {\n",
       "    fig.image_mode = msg['mode'];\n",
       "}\n",
       "\n",
       "mpl.figure.prototype.updated_canvas_event = function() {\n",
       "    // Called whenever the canvas gets updated.\n",
       "    this.send_message(\"ack\", {});\n",
       "}\n",
       "\n",
       "// A function to construct a web socket function for onmessage handling.\n",
       "// Called in the figure constructor.\n",
       "mpl.figure.prototype._make_on_message_function = function(fig) {\n",
       "    return function socket_on_message(evt) {\n",
       "        if (evt.data instanceof Blob) {\n",
       "            /* FIXME: We get \"Resource interpreted as Image but\n",
       "             * transferred with MIME type text/plain:\" errors on\n",
       "             * Chrome.  But how to set the MIME type?  It doesn't seem\n",
       "             * to be part of the websocket stream */\n",
       "            evt.data.type = \"image/png\";\n",
       "\n",
       "            /* Free the memory for the previous frames */\n",
       "            if (fig.imageObj.src) {\n",
       "                (window.URL || window.webkitURL).revokeObjectURL(\n",
       "                    fig.imageObj.src);\n",
       "            }\n",
       "\n",
       "            fig.imageObj.src = (window.URL || window.webkitURL).createObjectURL(\n",
       "                evt.data);\n",
       "            fig.updated_canvas_event();\n",
       "            fig.waiting = false;\n",
       "            return;\n",
       "        }\n",
       "        else if (typeof evt.data === 'string' && evt.data.slice(0, 21) == \"data:image/png;base64\") {\n",
       "            fig.imageObj.src = evt.data;\n",
       "            fig.updated_canvas_event();\n",
       "            fig.waiting = false;\n",
       "            return;\n",
       "        }\n",
       "\n",
       "        var msg = JSON.parse(evt.data);\n",
       "        var msg_type = msg['type'];\n",
       "\n",
       "        // Call the  \"handle_{type}\" callback, which takes\n",
       "        // the figure and JSON message as its only arguments.\n",
       "        try {\n",
       "            var callback = fig[\"handle_\" + msg_type];\n",
       "        } catch (e) {\n",
       "            console.log(\"No handler for the '\" + msg_type + \"' message type: \", msg);\n",
       "            return;\n",
       "        }\n",
       "\n",
       "        if (callback) {\n",
       "            try {\n",
       "                // console.log(\"Handling '\" + msg_type + \"' message: \", msg);\n",
       "                callback(fig, msg);\n",
       "            } catch (e) {\n",
       "                console.log(\"Exception inside the 'handler_\" + msg_type + \"' callback:\", e, e.stack, msg);\n",
       "            }\n",
       "        }\n",
       "    };\n",
       "}\n",
       "\n",
       "// from http://stackoverflow.com/questions/1114465/getting-mouse-location-in-canvas\n",
       "mpl.findpos = function(e) {\n",
       "    //this section is from http://www.quirksmode.org/js/events_properties.html\n",
       "    var targ;\n",
       "    if (!e)\n",
       "        e = window.event;\n",
       "    if (e.target)\n",
       "        targ = e.target;\n",
       "    else if (e.srcElement)\n",
       "        targ = e.srcElement;\n",
       "    if (targ.nodeType == 3) // defeat Safari bug\n",
       "        targ = targ.parentNode;\n",
       "\n",
       "    // jQuery normalizes the pageX and pageY\n",
       "    // pageX,Y are the mouse positions relative to the document\n",
       "    // offset() returns the position of the element relative to the document\n",
       "    var x = e.pageX - $(targ).offset().left;\n",
       "    var y = e.pageY - $(targ).offset().top;\n",
       "\n",
       "    return {\"x\": x, \"y\": y};\n",
       "};\n",
       "\n",
       "/*\n",
       " * return a copy of an object with only non-object keys\n",
       " * we need this to avoid circular references\n",
       " * http://stackoverflow.com/a/24161582/3208463\n",
       " */\n",
       "function simpleKeys (original) {\n",
       "  return Object.keys(original).reduce(function (obj, key) {\n",
       "    if (typeof original[key] !== 'object')\n",
       "        obj[key] = original[key]\n",
       "    return obj;\n",
       "  }, {});\n",
       "}\n",
       "\n",
       "mpl.figure.prototype.mouse_event = function(event, name) {\n",
       "    var canvas_pos = mpl.findpos(event)\n",
       "\n",
       "    if (name === 'button_press')\n",
       "    {\n",
       "        this.canvas.focus();\n",
       "        this.canvas_div.focus();\n",
       "    }\n",
       "\n",
       "    var x = canvas_pos.x * mpl.ratio;\n",
       "    var y = canvas_pos.y * mpl.ratio;\n",
       "\n",
       "    this.send_message(name, {x: x, y: y, button: event.button,\n",
       "                             step: event.step,\n",
       "                             guiEvent: simpleKeys(event)});\n",
       "\n",
       "    /* This prevents the web browser from automatically changing to\n",
       "     * the text insertion cursor when the button is pressed.  We want\n",
       "     * to control all of the cursor setting manually through the\n",
       "     * 'cursor' event from matplotlib */\n",
       "    event.preventDefault();\n",
       "    return false;\n",
       "}\n",
       "\n",
       "mpl.figure.prototype._key_event_extra = function(event, name) {\n",
       "    // Handle any extra behaviour associated with a key event\n",
       "}\n",
       "\n",
       "mpl.figure.prototype.key_event = function(event, name) {\n",
       "\n",
       "    // Prevent repeat events\n",
       "    if (name == 'key_press')\n",
       "    {\n",
       "        if (event.which === this._key)\n",
       "            return;\n",
       "        else\n",
       "            this._key = event.which;\n",
       "    }\n",
       "    if (name == 'key_release')\n",
       "        this._key = null;\n",
       "\n",
       "    var value = '';\n",
       "    if (event.ctrlKey && event.which != 17)\n",
       "        value += \"ctrl+\";\n",
       "    if (event.altKey && event.which != 18)\n",
       "        value += \"alt+\";\n",
       "    if (event.shiftKey && event.which != 16)\n",
       "        value += \"shift+\";\n",
       "\n",
       "    value += 'k';\n",
       "    value += event.which.toString();\n",
       "\n",
       "    this._key_event_extra(event, name);\n",
       "\n",
       "    this.send_message(name, {key: value,\n",
       "                             guiEvent: simpleKeys(event)});\n",
       "    return false;\n",
       "}\n",
       "\n",
       "mpl.figure.prototype.toolbar_button_onclick = function(name) {\n",
       "    if (name == 'download') {\n",
       "        this.handle_save(this, null);\n",
       "    } else {\n",
       "        this.send_message(\"toolbar_button\", {name: name});\n",
       "    }\n",
       "};\n",
       "\n",
       "mpl.figure.prototype.toolbar_button_onmouseover = function(tooltip) {\n",
       "    this.message.textContent = tooltip;\n",
       "};\n",
       "mpl.toolbar_items = [[\"Home\", \"Reset original view\", \"fa fa-home icon-home\", \"home\"], [\"Back\", \"Back to previous view\", \"fa fa-arrow-left icon-arrow-left\", \"back\"], [\"Forward\", \"Forward to next view\", \"fa fa-arrow-right icon-arrow-right\", \"forward\"], [\"\", \"\", \"\", \"\"], [\"Pan\", \"Pan axes with left mouse, zoom with right\", \"fa fa-arrows icon-move\", \"pan\"], [\"Zoom\", \"Zoom to rectangle\", \"fa fa-square-o icon-check-empty\", \"zoom\"], [\"\", \"\", \"\", \"\"], [\"Download\", \"Download plot\", \"fa fa-floppy-o icon-save\", \"download\"]];\n",
       "\n",
       "mpl.extensions = [\"eps\", \"jpeg\", \"pdf\", \"png\", \"ps\", \"raw\", \"svg\", \"tif\"];\n",
       "\n",
       "mpl.default_extension = \"png\";var comm_websocket_adapter = function(comm) {\n",
       "    // Create a \"websocket\"-like object which calls the given IPython comm\n",
       "    // object with the appropriate methods. Currently this is a non binary\n",
       "    // socket, so there is still some room for performance tuning.\n",
       "    var ws = {};\n",
       "\n",
       "    ws.close = function() {\n",
       "        comm.close()\n",
       "    };\n",
       "    ws.send = function(m) {\n",
       "        //console.log('sending', m);\n",
       "        comm.send(m);\n",
       "    };\n",
       "    // Register the callback with on_msg.\n",
       "    comm.on_msg(function(msg) {\n",
       "        //console.log('receiving', msg['content']['data'], msg);\n",
       "        // Pass the mpl event to the overridden (by mpl) onmessage function.\n",
       "        ws.onmessage(msg['content']['data'])\n",
       "    });\n",
       "    return ws;\n",
       "}\n",
       "\n",
       "mpl.mpl_figure_comm = function(comm, msg) {\n",
       "    // This is the function which gets called when the mpl process\n",
       "    // starts-up an IPython Comm through the \"matplotlib\" channel.\n",
       "\n",
       "    var id = msg.content.data.id;\n",
       "    // Get hold of the div created by the display call when the Comm\n",
       "    // socket was opened in Python.\n",
       "    var element = $(\"#\" + id);\n",
       "    var ws_proxy = comm_websocket_adapter(comm)\n",
       "\n",
       "    function ondownload(figure, format) {\n",
       "        window.open(figure.imageObj.src);\n",
       "    }\n",
       "\n",
       "    var fig = new mpl.figure(id, ws_proxy,\n",
       "                           ondownload,\n",
       "                           element.get(0));\n",
       "\n",
       "    // Call onopen now - mpl needs it, as it is assuming we've passed it a real\n",
       "    // web socket which is closed, not our websocket->open comm proxy.\n",
       "    ws_proxy.onopen();\n",
       "\n",
       "    fig.parent_element = element.get(0);\n",
       "    fig.cell_info = mpl.find_output_cell(\"<div id='\" + id + \"'></div>\");\n",
       "    if (!fig.cell_info) {\n",
       "        console.error(\"Failed to find cell for figure\", id, fig);\n",
       "        return;\n",
       "    }\n",
       "\n",
       "    var output_index = fig.cell_info[2]\n",
       "    var cell = fig.cell_info[0];\n",
       "\n",
       "};\n",
       "\n",
       "mpl.figure.prototype.handle_close = function(fig, msg) {\n",
       "    var width = fig.canvas.width/mpl.ratio\n",
       "    fig.root.unbind('remove')\n",
       "\n",
       "    // Update the output cell to use the data from the current canvas.\n",
       "    fig.push_to_output();\n",
       "    var dataURL = fig.canvas.toDataURL();\n",
       "    // Re-enable the keyboard manager in IPython - without this line, in FF,\n",
       "    // the notebook keyboard shortcuts fail.\n",
       "    IPython.keyboard_manager.enable()\n",
       "    $(fig.parent_element).html('<img src=\"' + dataURL + '\" width=\"' + width + '\">');\n",
       "    fig.close_ws(fig, msg);\n",
       "}\n",
       "\n",
       "mpl.figure.prototype.close_ws = function(fig, msg){\n",
       "    fig.send_message('closing', msg);\n",
       "    // fig.ws.close()\n",
       "}\n",
       "\n",
       "mpl.figure.prototype.push_to_output = function(remove_interactive) {\n",
       "    // Turn the data on the canvas into data in the output cell.\n",
       "    var width = this.canvas.width/mpl.ratio\n",
       "    var dataURL = this.canvas.toDataURL();\n",
       "    this.cell_info[1]['text/html'] = '<img src=\"' + dataURL + '\" width=\"' + width + '\">';\n",
       "}\n",
       "\n",
       "mpl.figure.prototype.updated_canvas_event = function() {\n",
       "    // Tell IPython that the notebook contents must change.\n",
       "    IPython.notebook.set_dirty(true);\n",
       "    this.send_message(\"ack\", {});\n",
       "    var fig = this;\n",
       "    // Wait a second, then push the new image to the DOM so\n",
       "    // that it is saved nicely (might be nice to debounce this).\n",
       "    setTimeout(function () { fig.push_to_output() }, 1000);\n",
       "}\n",
       "\n",
       "mpl.figure.prototype._init_toolbar = function() {\n",
       "    var fig = this;\n",
       "\n",
       "    var nav_element = $('<div/>')\n",
       "    nav_element.attr('style', 'width: 100%');\n",
       "    this.root.append(nav_element);\n",
       "\n",
       "    // Define a callback function for later on.\n",
       "    function toolbar_event(event) {\n",
       "        return fig.toolbar_button_onclick(event['data']);\n",
       "    }\n",
       "    function toolbar_mouse_event(event) {\n",
       "        return fig.toolbar_button_onmouseover(event['data']);\n",
       "    }\n",
       "\n",
       "    for(var toolbar_ind in mpl.toolbar_items){\n",
       "        var name = mpl.toolbar_items[toolbar_ind][0];\n",
       "        var tooltip = mpl.toolbar_items[toolbar_ind][1];\n",
       "        var image = mpl.toolbar_items[toolbar_ind][2];\n",
       "        var method_name = mpl.toolbar_items[toolbar_ind][3];\n",
       "\n",
       "        if (!name) { continue; };\n",
       "\n",
       "        var button = $('<button class=\"btn btn-default\" href=\"#\" title=\"' + name + '\"><i class=\"fa ' + image + ' fa-lg\"></i></button>');\n",
       "        button.click(method_name, toolbar_event);\n",
       "        button.mouseover(tooltip, toolbar_mouse_event);\n",
       "        nav_element.append(button);\n",
       "    }\n",
       "\n",
       "    // Add the status bar.\n",
       "    var status_bar = $('<span class=\"mpl-message\" style=\"text-align:right; float: right;\"/>');\n",
       "    nav_element.append(status_bar);\n",
       "    this.message = status_bar[0];\n",
       "\n",
       "    // Add the close button to the window.\n",
       "    var buttongrp = $('<div class=\"btn-group inline pull-right\"></div>');\n",
       "    var button = $('<button class=\"btn btn-mini btn-primary\" href=\"#\" title=\"Stop Interaction\"><i class=\"fa fa-power-off icon-remove icon-large\"></i></button>');\n",
       "    button.click(function (evt) { fig.handle_close(fig, {}); } );\n",
       "    button.mouseover('Stop Interaction', toolbar_mouse_event);\n",
       "    buttongrp.append(button);\n",
       "    var titlebar = this.root.find($('.ui-dialog-titlebar'));\n",
       "    titlebar.prepend(buttongrp);\n",
       "}\n",
       "\n",
       "mpl.figure.prototype._root_extra_style = function(el){\n",
       "    var fig = this\n",
       "    el.on(\"remove\", function(){\n",
       "\tfig.close_ws(fig, {});\n",
       "    });\n",
       "}\n",
       "\n",
       "mpl.figure.prototype._canvas_extra_style = function(el){\n",
       "    // this is important to make the div 'focusable\n",
       "    el.attr('tabindex', 0)\n",
       "    // reach out to IPython and tell the keyboard manager to turn it's self\n",
       "    // off when our div gets focus\n",
       "\n",
       "    // location in version 3\n",
       "    if (IPython.notebook.keyboard_manager) {\n",
       "        IPython.notebook.keyboard_manager.register_events(el);\n",
       "    }\n",
       "    else {\n",
       "        // location in version 2\n",
       "        IPython.keyboard_manager.register_events(el);\n",
       "    }\n",
       "\n",
       "}\n",
       "\n",
       "mpl.figure.prototype._key_event_extra = function(event, name) {\n",
       "    var manager = IPython.notebook.keyboard_manager;\n",
       "    if (!manager)\n",
       "        manager = IPython.keyboard_manager;\n",
       "\n",
       "    // Check for shift+enter\n",
       "    if (event.shiftKey && event.which == 13) {\n",
       "        this.canvas_div.blur();\n",
       "        event.shiftKey = false;\n",
       "        // Send a \"J\" for go to next cell\n",
       "        event.which = 74;\n",
       "        event.keyCode = 74;\n",
       "        manager.command_mode();\n",
       "        manager.handle_keydown(event);\n",
       "    }\n",
       "}\n",
       "\n",
       "mpl.figure.prototype.handle_save = function(fig, msg) {\n",
       "    fig.ondownload(fig, null);\n",
       "}\n",
       "\n",
       "\n",
       "mpl.find_output_cell = function(html_output) {\n",
       "    // Return the cell and output element which can be found *uniquely* in the notebook.\n",
       "    // Note - this is a bit hacky, but it is done because the \"notebook_saving.Notebook\"\n",
       "    // IPython event is triggered only after the cells have been serialised, which for\n",
       "    // our purposes (turning an active figure into a static one), is too late.\n",
       "    var cells = IPython.notebook.get_cells();\n",
       "    var ncells = cells.length;\n",
       "    for (var i=0; i<ncells; i++) {\n",
       "        var cell = cells[i];\n",
       "        if (cell.cell_type === 'code'){\n",
       "            for (var j=0; j<cell.output_area.outputs.length; j++) {\n",
       "                var data = cell.output_area.outputs[j];\n",
       "                if (data.data) {\n",
       "                    // IPython >= 3 moved mimebundle to data attribute of output\n",
       "                    data = data.data;\n",
       "                }\n",
       "                if (data['text/html'] == html_output) {\n",
       "                    return [cell, data, j];\n",
       "                }\n",
       "            }\n",
       "        }\n",
       "    }\n",
       "}\n",
       "\n",
       "// Register the function which deals with the matplotlib target/channel.\n",
       "// The kernel may be null if the page has been refreshed.\n",
       "if (IPython.notebook.kernel != null) {\n",
       "    IPython.notebook.kernel.comm_manager.register_target('matplotlib', mpl.mpl_figure_comm);\n",
       "}\n"
      ],
      "text/plain": [
       "<IPython.core.display.Javascript object>"
      ]
     },
     "metadata": {},
     "output_type": "display_data"
    },
    {
     "data": {
      "text/html": [
       "<img src=\"data:image/png;base64,iVBORw0KGgoAAAANSUhEUgAAAtAAAAFoCAYAAAB+JswZAAAgAElEQVR4nOzdeZhU5Zk//Ht+M5P3/b3JzO+dZN6ZJNcVCxWMCzEqWY0xcYvGJGZionESjcloSGI2TUyq2TcB2RFwQQQFFVlEEE/vdDc00NA0NN0NTbPvyA7N0jS91ff949Qpq7ur6jmn6lSd51R/P151AU1RfVunzlPfevo59yNCRERERERERERERERERERERERERERERERERERERERERERERERERERERERERERERERERERERERERERERERERERERERERERERERERERERERERERERERERERERERERERERERERERERERERERERERERERERERERERERERERERERERERERERERERERERERERERERERERERERERERERERERERERERERERERERERERERERERERERERERERERERERERERERERERERERERERERERERERERERERERERERERERERERERERERERERERERERERERERERERERETkjk996lPo168fb7zx1oNuInLS67GHiIjIt/r16wci6llEZKPXYw8REZFvMUAT9TzCAE1ERJQ8BmiinkcYoImIiJLHAE3U8wgDNBERUfIYoIm6u9TSjgdmrMHG/We8LiUthAGaiIgoeQzQRN01HD2HQNDAi2W7vC4lLYQBmoiIeqDPiUiZiDSISL2I/Dn89U+KSLGI7Ar/+m+qB2KAJupu5Y4TCAQNDHt/q9elpIUwQBMRUQ/0GRG5Jfz7fxGRnSJyvYiMF5Gc8NdzRGSc6oEYoIm6W1h1EIGggd++udHrUtJCGKCJiIjkfRG5R0R2iBmuJfzrDtU/ZIAm6m56yU4EggZ+9OIar0tJC2GAJiKiHq6XiBwUkX8VkcYuf3dW9Y8ZoIm6G7JsCwJBA994vsTrUtJCGKCJiKgH+4SIbBKRB8N/thug+4v5Brrxiiuu8Pq9nEg7/edVIRA00GdgHkKhkNfluE4YoImIqIf6ZxEpFJG/RH2NSziIXPDDGWsQCBoIBA2cudjidTmuEwZoIiLqgf5BROaJyNQuX58gnS8iHK96IAZoou6+PmYFrh+Sj0DQQMPRc16X4zphgCYioh7oNhGBiNSJSE34dr+IfEpESsRsY1ciZlu7hBigiTrr6Ajh6gG5eOiVCgSCBlbuOOF1Sa4TBmgiIqLkMUATdXbqwmUEggZGflCPQNDAoqqDXpfkOmGAJiIiSh4DNFFn9UfMXQjfqz6EQNDAjNLs241QGKCJiIiSxwBN1Fnp9uMIBA1s3H8GNw4vxJBlW7wuyXXCAE1ERJQ8BmiizhZsOIBA0MChM024Z/JK9J9X5XVJrhMGaCIiouQxQBN19sIKcxfCy23tePS19fjhjOzbjVAYoImIiJLHAE3U2aCldbhpRCEA4JmFm/H1MSs8rsh9wgBNRESUPAbo7BMKhbJy97xMeXJuFe6dsgoA8Hx+A3oPzEVHR3Y9n8IATURElDwG6OwzNq8BP3ox+5YdZMoD01fjsdmVAIDX1+xFIGjg1IXLHlflLmGAJiIiSh4DdPZ5YPpqXDUgFy1tHV6X4ktfHb0Czy6qAQDk1X2IQNBA/ZHs2o1QGKCJiIiSxwCdXdo7Qvj84DwEggZ2n7jgdTm+094RwlUDcjGhYDsAYOP+MwgEDZRuP+5xZe4SBmgiIqLkMUBnlz0nLiAQNBAIGlix7ZjX5fjO8fPNCAQNzK3YBwA4eLoJgaCBBRsOeFuYy4QBmoiIKHkM0NklN7zkIBA0MKt8j9fl+M6Ww40IBA3kbzkKALjc1o5A0MC0FTs9rsxdwgBNmgBvvPHW424nJQswQGeXSYXbcWWOgb5DCzDwvTqvy/GdkoZjCAQNVB84E/naTSMKMWhpdj2XwgBNmvD6XIiQ8Ju7TnSsR6eadKsH4DFTCdeTFW9ADNDZ5ddzq3DnxDL8cMYa/Per67wux3fmV5q7EB45eynytXunrMKTc7NrN0LJkvGL/M/rcyFCNAsaAMOYim71ADxmKsIATZr65rhSPPX2JjyzIDs3AEm3KcU7EAgaaG3/qIPJY7Mr8cD01R5W5T7JkvGL/M/rcyFCNAsaAMOYim71ADxmKsIATRq6cLkNgaCB6SU7I9tRX2pp97osX8lZUod+o4o6fe3ZRTX46ujs+jAiWTJ+kf95fS5EiGZBA2AYU9GtHoDHTEUYoElDVsu14vpjWF5zBIGggYaj2dW/ON2eeGMD7pta3ulr4wsacNWAXLRn0W6EkiXjF/mf1+dChGgWNACGMRXd6gF4zFSEAZo09Nb6/QgEDRw60xTpJpFX96HXZfnK96etxuNzKjt9bW7FPgSCBk6cz57dCCVLxi/yP6/PhQjRLGgADGMqutUD8JipCAM0aWjw0i3oO7QAoVAospzjxbJdXpflK19+rhh/X1zb6Wv5W44iEDSw5XCjR1W5T7Jk/CL/8/pciBDNggbAMKaiWz0Aj5mKMECThn7y8lr85OW1kT9/+bniyJbUpNbW3oErcwxMKtze6evVB8ylMSUN2bMxjWTJ+EX+5/W5ECGaBQ2AYUxFt3oAHjMVYYAmzYRCIfQdWtCpX/FDr1Tgxy+tTfCvKNqxc+YuhG+u29/p60fOXkIgaGB+ZfbsRihZMn6R/3l9LkSIZkEDYBhT0a0egMdMRfQI0HNE5ISIbI362nAROSIiNeHb/aoHYYDODofONHULf8F3a7t1lKD46g6Z68YLtx7t9PWWtg4EggamFO/wqDL3iffjF5GI6PfG7nUZnehYj0416VYPwGOmInoE6NtF5BbpHqCfdfIgDNDZYcU2cwe9jftPR7728srdCAQNnGtu9bAy/yiuN5/DmoNnu/3dLSOLMCCLdnYU78cvIhHR743d6zI60bEenWrSrR6Ax0xF9AjQIiK9hAGaAMwo3YVA0MD5qLBcsNW8+K32UPdAaMfltvZOO/JlO6uLydHG5m5/d9/UcjzxxgYPqkoP0WP8ItLujd3rMjrRsR6datKtHoDHTEX0DtD7RaROzCUe/6Z6AAbo7PD7tzfhtnElnb6249h5BIIGlm0+nNRjWpux5CypQ2NT9s9iTyragV45BtqidiG0PD6nEt+flj27EYoe4xeRdm/sXpfRiY716FSTbvUAPGYqom+A/k8R+UcR+V8iMlrMEB1LfzHr33jFFVd4/XSSC+6atBJPzq3q9LXm1nb0ykl+7e6jr61H36EFuDLHQL9RRVhafRihUPZsJtJV8N1afOm54ph/9/fFtfhynL/zI9Fj/CLS7o3d6zI60bEenWrSrR6Ax0xF9A3Qdv8ugjPQ/tfc2h6z/RoA3Dq2BH96p9rxY4ZCIdw4vBA5S2qx5XAjHpixBoGggZ/PWo+9Jy+6UbZ2fvX6Btz/QnnMv5tYuB1X5hhZsxuh6DF+EWn3xu51GZ3oWI9ONelWD8BjpiL6BujPRP3+GRFZoHoABmj/s3YdzI2x6+Cjr63HA9OdLz04cMrs6vHWerOrR3tHCPMq9qHv0AL0GZSHKcU7cLmtPeXadXL/C+X41eux1znPW2eujz5+rvv6aD8SPcYvIu3e2L0uoxMd69GpJt3qAXjMVESPAP2OiBwVkTYROSwiT4jImyKyRcw10Mulc6COiQHa/xZVHUQgaGD3iQvd/m7w0i3oO6zA8dILo/ZDBIIG6g513n3v+Llm/GF+NQJBA3dMKMPaXSdTql0n/UYVI2dJbcy/KwxfkNn1+fAr8X78IhIR/d7YvS6jEx3r0akm3eoBeMxURI8A7QpVgD7b1IJJRTvQ0tb9wiovtLV3YNqKnajce1p9Z428X3MkbTvZjfygHtcMyou5vGD26r0IBA2cunDZ0WOOyduGPgPz4s4yr9xxAt8cV4pA0MDTCzbjpMPHT8b55lZMLNyOSy3uz3y3tnegV46ByUWx14vXHDyLQNBAcX127EYoWTJ+kf95fS5EiGZBA2AYU9GtHoDHTEV6UIBeGJ7dXLFNj+BgzQQGggaeXVSD0xdbvC5Jqb0jhC+OKMQXhhXgbJP79f5s1jr8IM4yjdKG4wgEDVTtc/aB42ez1im7TjS3tmNCwXb0HpiLG4cXYn7lAXSkcY3we9WHUuoqksiHjeZug2+vj73b4NHG5k5LWvxOsmT8Iv/z+lyIEM2CBsAwpqJbPQCPmYr0oAA9pXgHAkEDw97fmqFnN7HH51Tiy88VY0zeNlw9IBc3jSjEoqqDWneHqD10NhL6x+Ruc/3x+40qwt8W18T8u30nLyIQNLCo6qDtxwuFQug7rMD2xiG7jp/Hw69UIBA08OBLa9Fw9Jzt7+XEmNxtCAQN/HVR7P/XVGxWzDC3hWeoJ8WZofYbyZLxi/zP63MhQjQLGgDDmIpu9QA8ZirSgwL03xfXIhA0cNeklRl6duM7eLrJDDHhbhMNR8/hwZfWIhA08PArFdh1/LzHFcZmbXLy+JxK9BmU5+rmJCfOX0YgaGD26r0x/76tvQNXD8jFuPwG249phe75lbFnY2MJhUJYvPEQbhpRiKsH5GJM3jY0tbTZ/vd2PDa7EoGgga+OXuH6ByY7a5z7jSpG8N3Ya6T9RuKPX9eIyCwRKRKR0qgbUVp4fS5EiGZBA2AYU9GtHoDHTEV6UIB+9LX1kdnTDxu93ZVuQoHZSuxwVADt6AjhncoDuHF4IXoPzMWEgu1obtWrO8QjM9fh3imrcOhME/oMzIs7W5yM8p0nEAgaWLs7/sV8d0wow+/e2mj7MZfXHEEgaGDLYecXzJ252IK/La5BIGjg1rElrq77/vJzxbh2cD4CQcP1D0t2umwk6tLhNxJ//KoVkd+JyFdEpF/UjSgtvD4XIkSzoAEwjKnoVg/AY6YiPShA3zmxDHdMKHO8DMBtre0d+NJzxXEDzMkLl/HMgs0IBA3cPr4Uq3acyHCFsV1qaUefgXkY9UE9AGDUB/W4MsfAzmPuBMBXV+1BIGgkXAv+P69vwL1TVtl+zNG529BnUF5KF45W7j2NuyetRCBo4DfzNqb84ev0xRYEggaGLNuCQNDA62tiz7gny06f50R9ov1G4o9fmzI5/hB5fS5EiGZBA2AYU9GtHoDHTEV6SIAOhUK4dnA+hi/fin6jivDnJDbkcEte3Ye2LmZcu/tkJPD//u1NSfftDYVCyN9yFN8aX4pXVu5O6jEAs1tFIGigbPtxAOYMbd+hBd12DUzWMws34yujE++QN/KDelw7ON/2BX4/nVmRVO/orlraOjCjdBeuGZSHm0YUovFS8tuBr919EoGggfKdJ3D7+FI88Ya7M8F/W1yjfB5zltSi36js2I1Quo9fnwzfhovIU2K2wPxk1I0oLbw+FyJEs6ABMIyp6FYPwGOmIj0kQJ9tMmf9ZpXvwZ/eqUa/UcWeXaz36Gvr8fUxK2ztBHe5rR1Ti3eiz6A89B1agHkV+xztIHfoTBP+5/UNCAQNXJlj4JvjSpP+/37OqEefgXmdWq9Za6KddsaI5btTy/GL2ZUJ7/NmeHmCnVngjo4Q+g4twKCl9i4gtMPqBJLKTwWsdnzHzzdj4Ht1uGFoAVrb3Wut+IvZlXE7mVgmF+1ArxzD1e/rFek+fu0Tkb3hX7ve9mZ0UKIexetzIUI0CxoAw5iKbvUAPGYq0kMC9NYjH+1wZ23Wse3D9HRYSGT/KfOitqnFOx39u70nL+Lns8w13A/MWKNc09va3oGXV+7GtYPzcd2QfMwq3xNZG7v1SHIbaNw7ZRUembmu09eaWtrwpeeK8eOX1qb0gaS1vQN9BuYpO3us2XVSuU7asufEBQSCBhZucG+5TuOlVgSCBmaU7kr6Mf62uAa3jCxCKBSK/DRigwsfQCz3TS1Xzmq/td7+BxHdSfzx6/+2+TUiV3h9LkSIZkEDYBhT0a0egMdMRXpIgC6uP4ZA0MDmg2cjfXBfXbUng8+0aWxeA64akIujjc6XY4RCISzbfBj9RhXhyhwDI5bX48Ll7t0hNu4/je9MXoVA0MCTc6siFyqevHAZV+YYmBju/OGE1SEjVnC0wlgqG3PsOHYegaCB96oPJbzfkbOXbPcwXrb5MAJBA/VH3P2g9O0JZeg/L/llKz+Yvho/m2V+EGlsasWVLreUu2VkkbJtn3U+1Bw869r39YrEH7+qbX6NyBVenwsRolnQABjGVHSrB+AxU5EeEqDnVuzr1Jngrkkr8ZhiuYDbWto6cMvIIvw6xTXDjU2tGPBeHQJBA18bswL5W44iFArhbFMLcpaYrfq+PmYFCrce7fZvH36lAncn0cbPCqOxAldrewfumFCGeyavdLS8JNbjq34q0NERwjWD8vCcUa98zFHhXQ3dXqbwh/nVuHVsSVL/tj1c/8gPPqr/gRlr8OBLa12praWtw9ZPOOoOmT+RifUa8RvpPn59WsxuGw0icrOI3BK+fVtEtmdyTKKexetzIUI0CxoAw5iKbvUAPGYq0kMC9Ni8BvQemBu5+GzY+1vx+cF5GW0TZ7VUsy7CS9XG/Wdw7xRzpvnns9bjlpFFuGpALp4z6nExxsw0ALy+Zm+4ddoFR9/rr4tqcOPwwrgBOTe8FCHZ7ibj8htw9YBcW90y7p2yytaFdw+9UoEfzliTVD2JWN1CnG4pDgC7w8tKop+nCQXbcdWAXJxrTv7CRMvh8Az9O4q+18fPmT+FmbfO/7sRSvfx63ERKRORC+FfrdtyEXkwo4MS9ShenwsRolnQABjGVHSrB+AxU5EeEqD/OL8at437aNbQ+hG2nbW0bnlk5jp84/kSV7eIbm3vwKur9uDawfn44Yw1yvXN1jbPTtbwhkIhfHX0ioT9l0OhEB6YsQZfG7MiqQ8lv3LQnu438zbijollCe/T0RHC9UPyMWTZFse1qFTsPpX0ByGj9sNufanX7Tnl2mzwpgNnEAgaKG1IXFt7Ryjp5Ty6kfjj148zOf4QeX0uRIhmQQNgGFPRrR6Ax0xFekiA/snLa/HwKxWRP1+43OZ4V7tUWDOPqVx8lsillnbbF/H9cMYafG+a/R7Au46b65PfXp94VtMKljNXOW+V9/UxK2y3Fnw+3/xpQluCpRm7jnef6XXL+WbzQsJpK5xdCAoAk8I9mqM/ZFxua8e1g90J+/lbjtreOObLzxW7uhGOVyT++PWXGLcnROSmzIxI1NN4fS5EiGZBA2AYU9GtHoDHTEV6SIC+dWwJnl6wudPXfvLyWmW7L7eM+qAeVw/IxfHzyfVydtMrK3cjEDRw8HSTrfvPCS/7sHP/X8yuxI3DnfVJbmwyA+nLNntULwx3Udl/6mLc+7xXfQiBoIGGo+nptHLHxLKk+l8/Obcq5lbyj8+pxB0TylKuy1rrf+K8ennJ96etxuNzMnsdQDpI/PFrvojsFJFJ4dt2EXlTRKpE5O8ZGZSoR/H6XIgQzYIGwDCmols9AI+ZivSAAN3eEcJVA3IxvqDzbPPU4p3olWPgTIKd79zQ3NqOL44odLQFdTpZrfRmldvrQvLEGxtw+/hSW/etP3IOvXIMPO9gZn/9HmdLIjbsO628/4jl9fj84LyEs9Sp+NM71fjamBWO/91t40rw+7c3dfv6rHJzXXX01u7JGF9gdnmxs0zoiTc24L6p/t+NUOKPX4Ui8omoP39CRApE5H+LyLY0D0fUA3l9LkSIZkEDYBhT0a0egMdMRXpAgLbW/b7Z5YKpjfvN9aJG7YdpfY6XVpsdJlbvzNx6a5X7ppbjxzY6P7S2d+CGoQXKtmjRnl6wGdcMyrPdqu+Nteasqd37n7xgttSbk2AL7J+8vBY/etH9CwgtVuB18hMFa+nH9JLuSz+2Hz3vSs/qvy6qsR3sB7xXh1tGFqX0/XQg8cevBhH5WNSf/6/w10RENqdzLKKeyetzIUI0CxoAw5iKbvUAPGYq0gMCtBWUu15Y1dbegb5DC5CzpDatz/FDL1fgW+NLXb14MFUvrDBn31Xbg1uzvXl19j9kHDzdhN4Dc/HMws3qO8PcVvqLIwptr+EOhcwdBofGWTPc3hHCdUPyMez9rbZrdsqaNS9psN/7euP+03H7ZYdCIXz5uWL8YX5qW8w/+tp6PGCz88jU4p0IBA1bnU90JvHHryFi9n0eFr5tFJGhIvJxEXk7I4MS9SjgjTfeetwtqwO01T4u1nrYJ+dWderO4TZrg5BXbK7vzRSrrnkV+xLeb1LRDlyZY6CxyVmLtQkF2xEIGpivaKcGmBc1/nRmhfJ+0X4wfTUefW19zL/bGf5/e3dj4k1ZUnHhcht65TjbUdLahvzQmdhryZ9ZsBk3jyxK6YPWvVNW2V6bPb/ygCvLRrwmicevL4nIn0Xk6fDvidLG6zdy3njjLfO3rA7QM1eZF83F6rNrXXSV6IK0VAx7fyv6DMxLqmdwOoVCIdwxsSyyI148P3pxje0ZzWjtHSE8NrsSvQfmYuP++NtUdyQ5W9y1LWG0dzeaFxDuOHbe0WM6ddeklbb6UVsGLa1D36EFcWfarbrtdNCI56YRhRi01N5ym5IGs5XjpgNnkv5+OpDE49c/ishnReSKqBtRWnh9LkRI+M1dJzrWo1NNutUD8JipiB4Beo6InBCRrVFf+6SIFIvIrvCv/6Z6kHgBetj7W3HD0IKYf7cn3F6u6/poNzS3tuMLwwpS/rF8uozLNy84i3cR5bnmVlw1IBcTCpLrFdzY1Irbx5fiS88Vx13fbF3QuGCDeqY62uTwzPjltu49p4e9vxXXDs5PeldEu55esBlfGV1s+/4/fmktfvJy/HXnx8Kbm9jtRtLV5bZ2R+31thw2dyPM3+Lv3Qgl/vj1RxE5JSL1IlInIlvCvxKlhdfnQoRoFjQAhjEV3eoBeMxURI8AfbuYW+1GB+jxIpIT/n2OiIxTPUi8AP3ruVW4Z3Ls7atDoRBuHVuC38xzv0PG4vCM4ro9p1x/bDdY2zkvjNMruXDr0ZTr33HsPK4fko8HZqyJucGK1bc41hbhiVgXZu463n2W+cGX1tq6QDJVs1eb7f2OKdaRAx+t2x68NHGv53smr4y7NEXl4OkmRxcinjhvXow5V7GMR3cSf/zaLSKfSmFcInLE63MhQjQLGgDDmIpu9QA8ZiqiR4AWEeklnQP0DhH5TPj3nwn/OaF4Afp708rxi9nx+93+fXEtvjCswPUZyx+9uAZ3TiyzfXFcplkfHn71euxlCEOWbcG1g/NTvsjMCsl/XVTT7bmYUrwDvXIMXGpxtnthzcGzMXfva2vvwOcH52H48vRdQGixLrCMdVFgV4fOmOH2rfWJf9IxYnk9rhmU3Bbz1kWKdtsBdsRp7+g3En/8KhORf0phTCJyxOtzIUI0CxoAw5iKbvUAPGYqom+Abuzy92dVDxAvQN8ysgg5S+KvC7UuMqx2cS3otg/POeq17JWRH9Sjz8A8nI+xPvyOCWWubbQxqWgHAkEDr3dpPfebeRuT2kCk8VJrzF0PrXZw71Wn7wJCy8XLbbgyx8Dkoh3K+1pbx2/cn/g1VtpwPOmWh7l15jbh9Ufsbx7z1dEr8NdF/t6NUOKPX7NFZI2IDJDOuxESpYXX50KEaBY0AIYxFd3qAXjMVMT/Abq/mPVvvOKKK7r9/zW3qteFngr3FY7VnzdZg5duQZ9BeTjblN5NWlJVFZ5FXbb5cKevHz57ydUPAB0dITzxRhWuGpCLtbs/CoffGl+a9AYz5gejzi0IF4V3KYy1tCMd7pm8Mu4MfrTpJWbLuAuX2xLe7+LlNvQemIsxedsc1/J6eMdIJxesPpCgm4lfSPzxa1icG1FaeH0uRIhmQQNgGFPRrR6Ax0xF9A3Qrizh2Hvyoq2WZve/UI6HX3HWSi2eppY29B1agGcW2OuD7KWOjhC+9Fwxfvtm5xC7YIPZ4mz7UfeC6PnmVtw5sQw3jSjEwdNNuJhEK7hoP35pbbf2d0OXbcH1Q9J/AaHlmYWb8aXnipXLdJ56e5PtdokPvVKB+19wvkPg8/kN6D3Q3i6ElifnVuHeKascfy+diHr8+ngyAxKRU16fCxGiWdAAGMZUdKsH4DFTEX0D9ATpfBHheNUDxArQa3adRCBodJr1jGVM3jb0HpiLi4oZQjus8Fm1L377Np0MWlqHawfnd1qH/If51fiyjWDo1J4TF9B3WAG+O7Uca3ebx6Zga3JdIP66qKZbF4z/enENHnLpg5Ad1qyvahfFOyeW2e7PPG2FOVt92uEW888s3IxbxzrraT5oaR1uGlHo6N/oRuKPX18Xc8vug+E/f1FEXkpmcCKyw+tzIUI0CxoAw5iKbvUAPGYqokeAfkdEjopIm4gcFpEnxLx6vkTMNnYlYra1SyhWgLZ+pK/q87x658mYuxUm4wfTV+OeySu1vXiwK+tDhtXOrKMjhJtHFqVtBr204Th65Rj40nPFCAQNHDgVe2MRlRmluxAIGpEPPW3tHbhmUB5GflDvZrkJWRfudb2YMVpzazuuzDEwqdBeO8DqA+bOmctrjjiq5eez1uO/HG5fboX1WO0A/ULij1+VIvI56bxt99Y49yVKmdfnQoRoFjQAhjEV3eoBeMxURI8A7YpYAdrarlgVEJpb23HNoDyMWJ5a+LJ663a9WE5nre0d+OKIQjwdDszW/8OSTem7EM8Kv9cPyU965z3rormtR8yNR6wLN7uu506nSy3qcGy1C8y1uR16e0cIXxhWgL8vdrbF/N2TVjpux7hwg/kB8+Dp5D7E6EASB2iRzgG6Nr2jEPVkXp8LEaJZ0AAYxlR0qwfgMVORLA/QwXdr0W+Uvc0ufj5rfdx+0XblLKnD5wfnofGSs62vvfbsohr0HVaAlrYOvLxyt+3+xskKhUL4++Ja/GVh8h0grMBs1JrB1AqDu09ccKtMW+6dsipht5KF4Z+C7HFQ12/mbcStY0sc/RTjxuGFGLIscZ/prkq3Hw93B/HHcqNYJP749a6I3Coi1SLyMRF5VkQWZGg4oh7I63MhQjQLGgDDmIpu9QA8ZiqS5QH60VdZc3AAACAASURBVNfW4wfTV9t6LqzgeDzJ4HjhchuuH5KPZ33YFmzFtmORHsJufJDIhEst7Z26pwxaWocbhhYkPaOdrL8uqkG/UUVxw+7ID+rx+cF5ji5snLduv6PQbXWbmVG6y/b3AID6I+cczY7rSOKPX/8uIm+LyHExdzp9S2wsBSNKltfnQoRoFjQAhjEV3eoBeMxUJMsD9F0Ofqyd6tKFN8Ohx81+0plyua0dNwwtwNMLNqOPC0tZMuVrY1bgmYXm0pMHZqzp1pUjE+ZW7EMgaODI2Usx//5ns9bhAZsf4iz7wt1j7O4SeOCUuVHLoji7SsZjtXD005KjrsTZ+PV0usYfIq/PhQjRLGgADGMqutUD8JipSBYH6FAohOuG5Nvela6jI4Rbkrx4LhQK4btTy3Hf1HLfXDzY1R/nV6NXjuHaxZSZ8MjMdfjRi2vQ2t6BPoPy8JyR+eBvXfRnXYQZLRQyL8h0up45FArhG8+X4Nc2O3dYuyKu2nHC0ffp6Aih98BcPJ/v390Ixdn4dVB9F6LkeH0uRIhmQQNgGFPRrR6Ax0xFsjhANza1Ot4MJNn2bZvDW0vPW5d4q2adWRfl9R6Yi6aW1Nv5ZcKA98w2bFuPmD89eN9h5wo3NLe246oBuZhQ0P1CwuPnmxEIGpiTxAxvzpJa9B1agLZ29VbqH9QeSbpv961jSyKz+H4kzsavQ+kaf4i8PhciRLOgATCMqehWD8BjpiJZHKCt9Z3WRWZ2WBeirdtzytHz+LfFNbhuSH7MLbH9oqmlDdcMynNtQ5lMeHXVHgSCRmT9+t6TidsVpst9U8vx2OzuFxKu2nHCVh/yWIxa8wNNxW71a3H2arMf9RmHvaMB4Icz1uDns/y7G6FwBpo04fW5ECGaBQ2AYUxFt3oAHjMVyeIAbV0Y52RN8rnmVnxzXCm+MrrY9sWEjZda8fnBed22lfajvLoPsfngWa/LsK243jzG979Qjr7DMn8BoeVvi2tw88juFxLOXLU7qU1RAHNb736jivDwKxXKn4iMyduGPgPzklo+1H9eFe6epP9Fo/FI9/Hrgoicj3G7ICLtGR2UqEfx+lyIEM2CBsAwpqJbPQCPmYpkcYCeF764y2k7toaj53DdkHz86MU1tjaYeGOt+X3qDjU6+j6Uul3HLyAQNNdt//er6zyrw+qacehM537KzyzY3G23RCesCxRLtydek/70gs34xvPOdiG0DFm2BTcO9+9uhJIl4xf5n9fnQoRoFjQAhjEV3eoBeMxUJIsD9PP5Deg9MDepWcm88Hrg4Lu1CWf1QqEQvjN5Fb4/zVmXBXJHS1sHrgxf+Dgmd5tnddSE18DndWkHd9/UcvwixtIOu1raOvDNcaW4d8qqhK/j/351HR58aW1S38Pa1Ka51Z+7EUqWjF/kf16fCxGiWdAAGMZUdKsH4DFTkSwO0H96pzrpWTkAmFCwXXlhoLWV8zuVB5L+PpSa28eXIhA08EFt5i8gtDS3tuPqAbkYF9XNorW9A30G5mFMXmrB/v0a8wLB96rjt1e8c2IZfveWs10ILdZ298luqe41yZLxi/zP63MhQjQLGgDDmIpu9QA8ZiqSxQH6oZcr8FAKF8R1dITwP69vwNUDcrE+zkWFzyzYjBuGFuDiZX90rchGv5hdiUDQwP5T3lxAaLn/hXI8+tpHF+PtOHYegaCBpdWpbS3e0RHC96aV49axJXGXFPUdVoBh79tr19jVyvCFjhv2+XM3QsmS8Yv8z+tzIUI0CxoAw5iKbvUAPGYqksUB+taxJfjzO9UpPT/nmltxx8Qy3DKyqNtGGWebWtBnUB4GLa1L6XtQaiYWbsfXx6zwvP928N1afHFEYaSOZZsPIxA00HD0XMqPXb7TDLmvre7eDq+ppQ2BoIEXy5ztQmhpOHrO8xn8VEiWjF/kf16fCxGiWdAAGMZUdKsH4DFTkSwN0O0doW4/Uk/WruMX0HdoAb43rbzTOtHXwq3D6o+kHpAoeS1tHTinQfvAt9abFxIePG0uhbDW4Le0qfs42/HzWetx04jCbv+v1q6F725MbgfNMxdbEAgamB0jnPuBZMn4Rf7n9bkQIZoFDYBhTEW3egAeMxXJ0gB9tLHZ1Y1NVmw7hl45Bp5esBmhUAihUAh3TizDf724xpXHJ/+rO9TYqe/4L+dU4t4pq1x//ImFnTdsWb/nFAJBA6t3Ou81DZgXwrqxVtsrkiXjF/mf1+dChGgWNACGMRXd6gF4zFQkSwP0pvD2yiUNx1x7rqat2BnZ2XBdOLQsqjro2uOTv11ua0fvgbkYm2f+1ONrY1bg6SS2hU/k929vwrWD8zv1KLcuMtx5zPkuhJZvPF/ieq2ZIlkyfpH/eX0uRIhmQQNgGFPRrR6Ax0xFsjRAW1sbb/vQveUVoVAIv31zI67MMfDdqebGHZda/Nn6i9Lj+9NW42ez1uFsU0tkh0Q37Tt5EVcPyO207n5WubkbY2NT8stYfvTiGk/7aKdCsmT8Iv/z+lyIEM2CBsAwpqJbPQCPmYpkaYC2tnhuvOTu2tiLl9vwncmrEAgaSXc9oOyVs6QOXxhWgIrd5k8oyhQboCRj8NItuGpALvacuAAAGJ27DdcMSm4XQstv39yIOyeWuVRhYo1NrchZUoe5FftceTzJkvGL/M+VF7QbRLOgATCMqehWD8BjpiJZGqCHL9+K64fkp6Uzw/5TF/HUW5siF4sRWeZXHkAgaGD48q1J7YJpx/HzzbhuSD6eemsTALPf+TfHlab0mMPe34q+QwvcKC+uUCiEpdWH0W9UEa4akIvJRTtceVzJkvGL/M+VF7QbRLOgATCMqehWD8BjpiJZGqD7z6vC3ZNWevjMUk+05bB5od/NI4twU1RLO7dNKtqBQNBAzcGz+OnMCvzk5eR2IbS8WGbuRtjUkp5+5ntOXMDPZq1DIGjghzPWYOsR97a9lywZv8j/XHtRp0o0CxoAw5iKbvUAPGYqon+A3i8iW0SkRhR1RgfoH0xfjcdS2EKZKBktbebug4GggUdmpm9N8fnmVtw8sgiPzFyHb08ow1Nvb0rp8d7deAiBoIF9J93djKa5tR1Tinegz8A89B1WgHnr9qM9wZbkyVCNC0SZ4uoLOxWiWdAAGMZUdKsH4DFTEX8E6H+3c8foAN1vVBFyltR6+MxST/XA9NWRZRzpNGeN2Yc8EDQwYnl9So+1eudJBIJG3B03k7F210ncMaEMgaCBP86vxvHz7i9nARigSR9peYEnQzQLGgDDmIpu9QA8ZiqShQG6ubUdgaCBF1bs9PjZpZ5o4Ht1CAQNLNyQ3haHl9vacdu4Ele6fVjbjs+vPIBTFy6ndDtwqglPL9iMQNDA7eNLsWrHCZf+j2MTvccv6kHS+kJ3QjQLGgDDmIpu9QA8Ziqif4DeJyLVIrJJRPonuqMVoK2d2RYnuTMbUSoWVh1EIGhgy2H31vnGs7Ta3C582ebDKT1O46VW9MoxIjPaqd56D8zFpMLtnXbuTBfRe/yiHiTtL3a7RLOgATCMqehWD8BjpiL6B+jPhn/9DxGpFZHbu/x9fzHr33jFFVcAANbuNn8cvXZXcjuzEaWipa0DK7YdS9sFhNFCoRBWbDvmSlBdse0Y5lbsS/k2r2JfpMVeJoje4xf1IBl70auIZkEDYBhT0a0egMdMRfQP0NGGi8iz8f7SmoFenKYLoohIP+Kf8YuynNfnQoRoFjQAhjEV3eoBeMxURO8A/XER+Zeo31eIyH3x7mwFaGvL7Uz8+JiIvCX6jl/Uw4A33njrcTdd34CuEnPZRq2I1IvIoER3tgJ0zpJa9BtV5PHbOhFlgug7flEP4/UbOW+88Zb5W1a8AVkB+hezK/H9aas9flsnokyQLBm/yP+8PhciJPzmrhMd69GpJt3qAXjMVCQLA/Tdk1ai/7wqj59ZIsoEyZLxi/zP63MhQjQLGgDDmIpu9QA8ZiqSZQE6FArh+iH5GPZ+ejexICI9SJaMX+R/Xp8LEaJZ0AAYxlR0qwfgMVORLAvQjZdaEQgaeHXVHq+fWiLKAMmS8Yv8z+tzIUI0CxoAw5iKbvUAPGYqkmUBuuHoOQSCBj6oPeL1U0tEGSBZMn6R/3l9LkSIZkEDYBhT0a0egMdMRbIsQJc0HEMgaGDTgTNeP7VElAGSJeMX+Z/X50KEaBY0AIYxFd3qAXjMVCTLAvSb6/YjEDRwtLHZ66eWiDJAsmT8Iv/z+lyIEM2CBsAwpqJbPQCPmYpkWYAel9+Aqwfkor0j/dsoE5H3JEvGL/I/r8+FCNEsaAAMYyq61QPwmKlIlgXopxdsxq1jS7x+WokoQyRLxi/yP6/PhQjRLGgADGMqutUD8JipSJYF6IdeqcBDL1d4/bQSUYZIloxf5H9enwsRolnQABjGVHSrB+AxU5EsC9C3jSvBn96p9vppJaIMkSwZv8j/vD4XIkSzoAEwjKnoVg/AY6YiWRagew/MxfP5DV4/rUSUIZIl4xf5n9fnQoRoFjQAhjEV3eoBeMxUJIsC9BdvugWBoIF5Ffu8flqJKEMkS8Yv8j+vz4UI0SxoAAxjKrrVA/CYqUgWBejrvnATAkEDK7Yd8/ppJaIMkSwZv8j/vD4XIkSzoAEwjKnoVg/AY6YiWRSge19/IwJBA/VHznn9tBJRhkiWjF/kf16fCxGiWdAAGMZUdKsH4DFTkSwK0IHP90UgaKCxqdXrp5WIMkSyZPwi//P6XIgQzYIGwDCmols9AI+ZimRRgP5s7xtw3ZB8hELcRIWop5AsGb/I/7w+FyJEs6ABMIyp6FYPwGOmIlkUoP+913W4a9JKr59SIsogyZLxi/zP63MhQjQLGgDDmIpu9QA8ZiqSRQH6/3zu83j0tfVeP6VElEGSJeMX+Z/X50KEaBY0AIYxFd3qAXjMVCSLAvT/89k+CL5b6/VTSkQZJFkyfpH/eX0uRIhmQQNgGFPRrR6Ax0xF9A/Q94nIDhHZLSI5ie74sU/3xtTinV4/pUSUQaL3+EU9iNfnQoRoFjQAhjEV3eoBeMxURO8A/Y8iskdErhKRj4lIrYhcH+/OH/t0byyqOuj1U0pEGST6jl/Uw3h9LkSIZkEDYBhT0a0egMdMRfQO0F8XkcKoPw8I32L62Kd7Y82uk14/pUSUQaLv+EU9jNfnQoRoFjQAhjEV3eoBeMxURO8A/RMReS3qz4+JyIx4d/7Yp3tjz4kLXj+lRJRBou/4RT2M1+dChGgWNACGMRXd6gF4zFRE7wD9kHQP0NO73Ke/mPVvFJHLUb/3022/BjWwZn1vfqw7kzWfFCINeP1+HiGaBQ2AYUxFt3oAHjMV0TtAO1rCIfr+f6j4sW7WnDl+rNuPNROlxOv38wjRLGgADGMqutUD8JipiN4B+p9EZK+IXCkfXUR4Q4L76/r/oeLHullz5vixbj/WTJQSr9/PI0SzoAEwjKnoVg/AY6YiegdoEZH7RWSnmN04Binuq/P/RyJ+rJs1Z44f6/ZjzUQp8fr9PEI0CxoAw5iKbvUAPGYqon+AdqK/1wUkyY91s+bM8WPdfqyZKCVev59HiGZBA2AYU9GtHoDHTEWyK0ATERF5wuv38wjRLGgADGMqutUD8JipCAM0ERFRyrx+P48QzYIGwDCmols9AI+ZimRPgLa95bdG9ovIFhGpEb2PwRwROSEiW6O+9kkRKRaRXeFf/82DuhKJVfNwETki5vNdI+b6ep18TkTKRKRBROpF5M/hr+v8XMerebjo/VwTuc7r9/MI0SxoAAxjKrrVA/CYqUh2BGhHW35rZL+I/LvXRdhwu4jcIp3D6Hj56INKjoiMy3RRCrFqHi4iz3pSjT2fEbNmEZF/EfPi2etF7+c6Xs3DRe/nmsh1Xr+fR4hmQQNgGFPRrR6Ax0xFsiNAO+0XrYv94o8ALSLSSzqH0R1ihicJ/7oj0wXZ0Ev8FaC7el9E7hF/PNcWq+bh4q/nmihlXr+fR4hmQQNgGFPRrR6Ax0xFsiNAO9ryWyP7RKRaRDaJ/l0LeknnMNrY5e/PZq4U23pJ9wC9X0TqxFziodNSiK56ichBEflX8cdzLdK55uHin+eayBXgjTfeetzN7wHazpbfOvps+Nf/EHPZye0e1qLSS/wfoP9TzOU+/0tERosZ7HT0CTE/VD0Y/rMfnuuuNfvluSZyjddv5Lzxxlvmb34P0H5dwhFtuOj9I+9e4v8lHHb/zkv/LOZr+S9RX9P9uY5Vc7ReoudzTeQqr3+iHCHhN3ed6FiPTjXpVg/AY6Yi2RGgnW75rYOPi3nRlfX7CjE7ieiql3QOQROk84Vt4zNdkA29pHPNn4n6/TMisiCj1aj9g4jME5GpXb6u83Mdr2bdn2si13n9fh4hmgUNgGFMRbd6AB4zFcmOAC3ibMtvHVwlZtCvFbP9l841vyMiR0WkTUQOi8gTIvIpESkRs7VaiZit1nQSq+Y3xWwbWCciy6VzyNPBbWKej3XSuf2bzs91vJp1f66JXOf1+3mEaBY0AIYxFd3qAXjMVCR7AjQREZFnvH4/jxDNggbAMKaiWz0Aj5mKMEATERGlzOv38wjRLGgADGMqutUD8JipCAM0ERFRyrx+P48QzYIGwDCmols9AI+ZijBAExERpczr9/MI0SxoAAxjKrrVA/CYqQgDNBERUcq8fj+PEM2CBsAwpqJbPQCPmYroHaA/JyJlItIgZqeKP3tbDhERUWxev59HiGZBA2AYU9GtHoDHTEX0DtCfEZFbwr//FzHb1F3vXTlERESxef1+HiGaBQ2AYUxFt3oAHjMV0TtAd/W+iNzjdRFERERdef1+HiGaBQ2AYUxFt3oAHjMV8U+A7iUiB0XkXz2ug4iIqBuv388jRLOgATCMqehWD8BjpiL+CNCfEJFNIvJgjL/rL2b9Gz/+8Y+jX79+vPHGWw+6icjJTA5GRPF4/X4eIZoFDYBhTEW3egAeMxXRP0D/s4gUishfVHfs16+f108nEWWY6D1+UQ/i9bkQIZoFDYBhTEW3egAeMxXRO0D/g4jME5Gpdu7MAE3U84i+4xf1MF6fCxGiWdAAGMZUdKsH4DFTEb0D9G1i1lcnIjXh2/3x7swATdTziL7jF/UwXp8LEaJZ0AAYxlR0qwfgMVMRvQO0IwzQRD2PZMn4Rf7n9bkQIZoFDYBhTEW3egAeMxVhgCYiH5MsGb/I/7w+FyJEs6ABMIyp6FYPwGOmIgzQRORjkiXjF/mf1+dChGgWNACGMRXd6gF4zFSEAZqIfEyyZPwi//P6XIgQzYIGwDCmols9AI+ZijBAE5GPSZaMX+R/Xp8LEaJZ0AAYxlR0qwfgMVMRBmgi8jHJkvGL/M/rcyFCNAsaAMOYim71ADxmKsIATUQ+JlkyfpH/eX0uRIhmQQNgGFPRrR6Ax0xFGKCJyMckS8Yv8j+vz4UI0SxoAAxjKrrVA/CYqQgDNBH5mGTJ+EX+5/W5ECGaBQ2AYUxFt3oAHjMVYYAmIh+TLBm/yP+8PhciRLOgATCMqehWD8BjpiIM0ETkY5Il4xf5n9fnQoRoFjQAhjEV3eoBeMxUhAGaiHxMsmT8Iv/z+lyIEM2CBsAwpqJbPQCPmYowQBORj0mWjF/kf16fCxGiWdAAGMZUdKsH4DFTEQZoIvIxyZLxi/zP63MhQjQLGgDDmIpu9QA8ZirCAE1EPiZZMn6R/3l9LkSIZkEDYBhT0a0egMdMRRigicjHJEvGL/I/r8+FCNEsaAAMYyq61QPwmKkIAzQR+ZhkyfhF/uf1uRAhmgUNgGFMRbd6AB4zFWGAJiIfkywZv8j/vD4XIkSzoAEwjKnoVg/AY6YiDNBE5GOSJeMX+R944423HnfLijcgBmiinkeyZPwi//P6jZw33njL/C0r3oAYoIl6HsmS8Yv8z+tzIULCb+460bEenWrSrR6Ax0xFGKCJyMckS8Yv8j+vz4UI0SxoAAxjKrrVA/CYqQgDNBH5mGTJ+EX+5/W5ECGaBQ2AYUxFt3oAHjMV0TtAzxGREyKy1c6dGaCJeh7Rd/yiHsbrcyFCNAsaAMOYim71ADGOmUjmb13q0ek5Er0D9O0icoswQBNRHKLv+EU9jNfnQoRoFjQABmgV3eoBGKBVRO8ALSLSSxigiSgO0Xv8oh7E63MhQjQLGgADtIpu9QAM0CrCAO1YKBRCacNxtHeEMvL91u85hXPNrSk/Ts3Bszh+rtmFitxx8HQTth89n/LjHD/fjM0Hz7pQkVpzaztW7zyZke/V0RHCe9WHMG/d/oS3hRsOorm1PeXvV9JwTPm93lq/HycvXE75ey3ZdAgVu0+l/DgAAzTpw5UXtBtEs6ABMECr6FYPwACtIv4P0P3FrH/jFVdckZHnrGrfaQSCBorqj6X9ezU2teLKHAPTS3am9DihUAhfGFaAnCV1LlWWul+9vgF3T1qZ8uMMWlqHG4YWoCMDH2jmVexDIGjg4OmmtH+v9XtOIRA0bN3eqz6U0vc6c7HF9vcak7ct5f+3Lz1XjGcX1aT8OAADNOnDlRe0G0SzoAEwQKvoVg/AAK0i/g/QEZmagX6n8gACQQMvle1O+/eqPnAGgaCBP79TndLjHD/XjEDQwEMvV7hUWeq+Oa4UVw/IRVt7R0qP89OZFQgEDXzYeMmlyuIbumwLAkEDZduPp/17vb3efJ1tOdyIE+cvx7wdO9eMqwbkYkLB9pS+18b95uts2ebDcb/XifOXcdeklXjijaqUvteFy20IBA28WLYrpcexiN7jF/Ugrryg3SCaBQ2AAVpFt3oABmgVYYB2bEzuNgSCBv622J0ZtESWbDqEQNDAA9NXp/Q468Kzmf1GFbtUWWpa2jpwZY45o7nv5MWUHusro4sRCBpYuyv9SysefW09AkEDc9bsTfv3es6oxzWD8pQz698aX4qn3tqU0vdavNF8ne05cSHh/frPq8KdE8tS+l5bDjciEDSQV/dhSo9jEb3HL+pBXHlBu0E0CxoAA7SKbvUADNAqoneAfkdEjopIm4gcFpEnEt05UwH613OrMjabO6lwOwJBA18YVoBQKPklCtaseSBo4LwL66lTtev4hUg9pSnM5l4Mz2YGggbeWr/fxQpju21cCQJBA0OXbUn793rijSp8Z/Iq5f1+OacS351antL3mlCwHVcNyEWr4qcBY/Ma0Htgbkrr/5fXHEEgaKDh6LmkHyOa6Dt+UQ/jygvaDaJZ0AAYoFV0qwdggFYRvQO0I5kK0HdPWpmx2dzfv70pEhBPpXDxljVrHggaqDvU6GKFySmqPxapZ/bq5Gdztx5pjDzOqA/qXaywu8tt7ZFZ80dfW5/W7wUAd04sQ/956uUSw5dvxbWD81P6gPXUW5vwrfGlyvst2GB+EDtwKvk14C+s2IlA0MClltQvfAQYoEkfrryg3SCaBQ2AAVpFt3oABmgVYYB2pL0jhD4D83DNoLyMzObe/0J55HtV7Tud9OM8Obcq8jjLNh92scLkzFy1G4GggWsG5WHw0uRncz+oPRJ5nCfe2OBihd3tOn4+8r2+8XxJWr9XW3sHeg/Mxdi8BuV9rQsbjzYm32Hlvqnl+OWcSuX9KveeTnkN+DMLNuPrY1Yk/e+7kiwZv8j/XHtRp0o0CxoAA7SKbvUADNAqwgDtyMHTTQgEDTw+pzLts7mhUAjXD8mPfK9FVQeTfqy7J63EY7PNx5lanFpHDzfkLKnDTSMK8YPpq1OazZ1eYs5mPja7EnekuDZXpXDr0cix75Vj4HKbOzOosRw4Zb7OFmw4oLxv+c4TCASNpNvChUIhXDs4H8OXb1Xe9/h582LU11NYA/7DGWvw36+uS/rfdyVZMn6R/7n2ok6VaBY0AAZoFd3qARigVYQB2pFVO8ywMjc865fO2Vyrc8as8j24ekAuxuWrZyNjsWbNx+Ruw61jS1Lu6OGGn86swI9eXIM/vVONW8cmP5v7zMLN+OroFXg+v8GVjh6JvLLSnDV/Y6157HceS72HdTxl248jEDRQuVf9U4dDZ8yw/fZ6ddiO5Wij+TqbV7FPed9QKIQbhhaktAb8iyMKMfA999opSpaMX+R/rr2oUyWaBQ2AAVpFt3oABmgVYYB2xArO1gxhOmdzrT7AK3ecwLcnlOF3b21M6nGsWfP5lQfws1nr8MCMNS5X6txXR6/AMws3Y3LRDvTKMZLeCORHL67BT2dWYOGGgwgEDew/lVpHj0RyltTi5pFF2HzwLAJBA4Vbj6bte72+Zi8CQQPHz6uXZXR0hNBnUB5G5ybXn7lit/k6K995wtb9vzetHI/NVi/3iMXqNz2rfE9S/z4WyZLxi/zPtRd1qkSzoAEwQKvoVg/AAK0iDNCODHt/K64bYl6wle7ZXKtzxsHTTfjV6xtw7xR1R4ZYrFnzdXtOYdDSupQ7eqSqqcXsnDG9ZCeWbT6MQNDAjiRnc28aUYicJXXYEN7cJpWOHioPv1KBB19ai8amVgSCBl5Zmb4+4EOXbcENQ+0fp3smJ9+f2eo3feiMvQsD/zC/GreNS+6nBla/6RXb3NuESLJk/CL/c+1FnSrRLGgADNAqutUDMECrCAO0I4/PqcT9L5gtw34+a31aZ3PH5G1Dn4F5aO8IYeQH9bh2cH5Su+1Zs+bHzzXjtdXmzObpiy1pqNie+iPnEAgaMGo/RO0hcza3IInZ3LNN5mzmq6v24OSFy2nvz/yV0cX4a3j3vFtGFiFnSW3avtdjsyvx/Wn2e3/3n1eFu5Lc1XF07jb0sdFv2jKpaAeuTHIN+LvhftO7Ff2mnZAsGb/I/1x7UadKNAsaAAO0im71AAzQKsIA7cjt40vx1NvmphXpns399dyPQtG8dfuT3m1v2PtbcX141rykwWwft3F/8h09UmXUfohA0MDWI40412zO5r6cxGyutUtjUf0xhEIh9B1agCFp6s9s9ZueUWrunvfgS2vx8Cvp6wN+27gS/GG+/Z9uwLmBbQAAIABJREFURH/YcuqJN6pwz2T74fu9ajME7zru/KcGVr/pljb31qpLloxf5H+uvahTJZoFDYABWkW3egAGaBVhgLatpa0DVw3IxcRCc9vkdM/m3jN5JZ6ca/5Yfs2uk+Zue7ud77YXPWu+9+RFBIIGFm885GqtTswo3YVA0MDFy20AgH6jihB81/ls7kdBzpzNTLWjRyJWv+nc8O55f11Ug6+MTk8fcKvf9KSiHbb/jdWf+eBp5/2Z75q00la/aYu1Bryo3vkyjKfettdv2gnJkvGL/M/VF3YqRLOgATBAq+hWD8AArSIM0LbtPmHunvduOHymcza364Vhh89eSnq3vehZ89Z280PA+ILkOnq44S8LO4fPH7+0Fg8lMZs7qXA7rswxIrOZf5xfnbb+zFa/6foj5u55XT8EuMnqN/1etf0POdEXnDoR6dCSZ/8CRGsN+MxVzn9q8N2p5XjcRr9pJyRLxi/yP1df2KkQzYIGwACtols9AAO0ijBA27ZimxmYNx04AyC9s7lWa7L5lWZrso6OEK4ZlIfnDGe77XWdNQeAb08ow1NvbXK1XicefGktfjrzo8D87KIafPk557O5f5hfjW+O+2g20+rokY7+zFa/6aYWMzDn1n20DMVt1i6Nmw+etf1vrP7Mb6zd5+h7WR1a7PSbjnbzyCLkLHHWii4UCuG6Ifb6TTshWTJ+kf+5+sJOhWgWNAAGaBXd6gEYoFWEAdq2WeV7EAgaOBNespHO2dxYm2N8Z/Iqx7vtdZ01B4BfzqnEfVPLXavVqZu7XIBnzeZecDib27Wd2tLqw2nrz2z1m7ZYF0J+UHvE9e9l7dLY2GR/l0tr051h7zsLpyvDHVrW73G2CYvVPtCJY+G+5nNt9Jt2QrqPX1tEpC7BjSgtXH1hp0I0CxoAA7SKbvUADNAqwgBt24D36vDFEYWdvpZKf+ZErM4Zx8591Af4N/M24k6Hu+11nTUHgBHLzY4eXrSyi/Xj/7zwbO6Ww/Znc60NPaIDY00a+zP/6MU1eGTmR7vnWa34pq1wvw+41W/aqe9NK8cvHPZntjaFsdNvOtpfFtZ0+kBhx7o9zvpN2yXdx69A+DY+fPtC+Pa8iAzN6KBEPYqrL+xUiGZBA2CAVtGtHoABWkUYoG3771fX4Ydd2talazZ3+PKP+k1bxuY1oPdAZ7vtdZ01B4B54XB+tNFZaHJDrE1Itn1ozuYur7E/mxtrS+nGS+nrz2z1m45mbQbjNmuXRqd+//amTkta7Iju0OKEtaTFyRrw+ZXJX+iYiMQfv9ba/BqRK1x9YadCNAsaAAO0im71AAzQKsIAbdvXxqzAMws6B6Z0zeY+PqcS3+0SzJPZbS/WrPnqncl39EhVrBZol1raEQgaeMHBbG68i+bS0Z85ut90tEdmrsN/JRF0Vb4yuhh/WVjj+N91vajSjsdmV+J705x/AIxuRWjXmHC/6WRa7SUi8cevGhG5LerPt4a/RpQWrr6wUyGaBQ2AAVpFt3oABmgVYYC2JV7IS9ds7rfGl3a70K9yr7nbXpmD3fZizZpbFyi+vd7ZhWNuiLcJR6wPJ4lYbdsOnOo8m5mO/szR/aaj5Sypw01dPpykyuo3Pb3E+dKQJZs6t/Wz45vjSvH7t51fUGq19TNqP7T9b56cW4W7k9zsJRGJP37dIiK1IrJfRPaJGZ5vycxoRD2R6y/uZIlmQQNggFbRrR6AAVpFGKBtibfMIB2zudbFiRMKtnf6+onzznfbixVMrRZ5Tjt6uCHeNtCxgn4iY/K2offA3G6zmenoz9y137Tl1VXm8pizTe71AU8mmFriBf14Wto6zH7ThdvVd+4imaB/16SV+PXc5LYbT0Rij1//S0QeDv/+X0Xk/2RsIKIey/UXd7JEs6ABMECr6FYPwACtIgzQtsS70C0ds7l7wp0zurbHsy6cG2pzt71ESyPumbwST7zhfphR+f602JudxFpqkkj/eVUxL6hMR3/meEsjrHZz1VEXaKYqmaURlnhLTeLZddx8nS3ZlFwbRidLTSL9pnPt95u2S+KPX+WZHH+IXH9xJ0s0CxoAA7SKbvUADNAqwgBtS7xWa+mYzbU6Z2zc3z2YxQugsSS6OC9eAE2nRB8AYl3smEi8DwDp6M/ctd+0JdUAGksyF+dFi3WxYzypfgBwcrGj1W/6nUr3lw1J/PFriIg8KyKfE5FPRt2I0sL1F3eyRLOgATBAq+hWD8AArSIM0LYk2uzD7M/s3mxuojD5xzhLIGJJ1B7O6ujh9gVdiVhLUF6PsQQlVru9eLru0hjN+tDgZn/meO3hUlkCEU8y7eGidW23l0iqS1ByltTZbre3Ksl+03ZI/PFrX4zb3gwNR9QDuf7iTpZoFjQABmgV3eoBGKBVhAHalkTbTbs9mzvwvTrcODz2coZ4F+HFkmiDkngX4aVToosgY234Ek+iZTPWspVkLsKLJVa/6WjJXoQXTzIblETruuFLIqleBOlkw5dIv+lz7rdOlCwZv8j/XH9xJ0s0CxoAA7SKbvUADNAqwgBtS79RRQi+G7s9mtuzuT+bFf+COmu3veg2cPEkmjW3wmzXNnDpZLXhixXaY205Ho914Wb0Lo3RvjbGvf7Mqi2yf5FkG7h4ktkiO1rXLccTeWTmuqT6TVucbDmebL9pOyTx+NVXzIsJfxF1I0oL11/cyRLNggbAAK2iWz0Aj5mKMEArnWs2N+h4Oc4GHW7P5n59zAo8HaelW6yNSOJJNGseayOSdFNtBHP7+FI8ZWM2V9U6MNVgGE31QcPNYBhrl0anPqg9gkDQQP2Rc8r7proRzK7j5xEIGnivWv1Tg1/MrsT9L6Rn+3iJP34NE5EyETkuIq+LyDEReTdDwxH1QGl5gSdDNAsaAMOYim71ADxmKqJ/gL5PRHaIyG4RyUl0x3QF6NpDZmgtiBNa3ZzNbW5NvKmIk5CVaNZctTQhHVRbkT8+x17IUm1eM+A99/ozWx+O4u2el+xW2LFYH47stqGLxWqDl1uXuA2etRV5KktdLre1m2vAi3Yo73v7eHeXukST+OPXFjHb2dWG//yfIvKBS+MSUTdpeYEnQzQLGgDDmIpu9QA8Ziqid4D+RxHZIyJXicjHxHwjvD7endMVoJdtNpdN7DgWe9mEm7O5DUfNi+DeT7Ct9c02dttTzZoD5sVxj8W4OC5dzIstN8T9+2Hvd9++PBbV9ulu9mcek7cNfQbG3z1vpYsXx8XapdEpqz/zjNJdCe9Xf8Sdiy1vG1eCP8yvTngf62JLO8tzkiHxx68N4V83idkL+h9EpN610YmoC/DGG2897qZrgP66iBRG/XlA+BZTugL05KId6JVjoLk19oV7TvszJ5Koc4blwZfWKi80U82aA/E3NUmHjo4QrlG0+5tbYe9Cs29PKOu2S2O0Yhf7M/efV4W7Euye52Z7NqvftJ0LRBP5yuhi/HVR4v7MbrX7e2x2Jb4/bXXC+1gXiLrZ7i+axB+/XhKR/1dEfisiu0Rks5hLOYjSwus3ct544y3zN10D9E9E5LWoPz8mIjPi3fkzV1+flrZsf3qnGreOTRw03ZrNfbEsfucMy18WqnfbU82aA+4FNjsOn72EQNDAW+v3x72P1epsXYLZXGuXxvEFDXHv42Z/ZtWGM5ENQvJS3yDErQ80D79SgQdfWpvwPm5tODN02RbcMLQg4U8NrA80dloUJkPsjV+9ROTGlEYjIoW0vMCTIeE3d53oWI9ONelWD8BjpiJ6B+iHpHuAnt7lPv3FrH/jxz7dO+bmI6n6wXT15iVuhZ9nF9XgS3E6Z1jshB/VrDngzpIBu+xseW7N5s5PMJsbb5fGaG71Z07UbzqaW1tUu/UhLGdJrbI/s50PYXa8vmavcg241dfczS3Po0n88WueiPxaRK51e2AiiiUtL/BkiGZBA2AYU9GtHoDHTEX0DtCOlnB87NO9MaHA3XWWoVAIfYcVYPDSxMsz3JrN/cnLa/HQy4mXZ9jZ7tnOrHn1gTMpX7Rm17x1+xEIGviw8VLc+9jZ7rmkwdql8XTC7+dGf2a727Q/8UYV7pkcf5mHHW4uA3plpbo/84MvrcXDcTq0OFG2/TgCQQOVe+MfD6fbtDsl8cevO0VkqIgUi3ktxRIR+bM7QxNRd2l7kTslmgUNoHsYEw/+61pPdE1e1BNdU8xjJt73XdatHq+PWYx6dA3Q/yTmzmFXykcXEd4Q787/dsW1+G6Ci8uScfKCuXve7NWJLxB0aza336gi/H1x4gsE7VwAZmfW/GxTS8pt0+yyOmd0KJbY3D1pJZ5MMJtrzWaeVmz57UZ/ZlW/acvo3G3oMyhP+f+WiJsXohZuParsz2znQlQ7DpwyP2Qs2BD/Q8YjM9fhv1xqKxiLJB6//lFEvibmB+8DIrLdtdGJqIu0vcidEgZou+HH03qia4p5zDQIrLrV4/Uxi1GPrgFaROR+Edkp5gzSoER3vOKavspZTqeq9pkt6kpj7J4XzY0WZHY6ZwDqFmTWrPkQG7OZqW7cYdevXt+QsHOG5ddzq3B3gov2Bi01d2lUdepwoz+z1W/6mOKixvmVZqu7Q2eS7wPuZitEqz/z0urDMf/ejX7TlvaOEHoPzMXYvPhr0r82ZgWeidPX3A0Sf/wqEZH1IjJFRB4Ukf9wcVwi6iZtL3KnhAHabvjxtJ7ommIeMw0Cq271eH3MYtSjc4C27YYbb7b1I3cnFlaZu+ftO3kx4f3cCCVW54z8LepNUhJtgmF31hxIfetou749oQy/e2uj8n5jchO3jfvZrHV4IM4ujdHc6M88Ynm9rbZ6FbtPIRA0UL4z+fDr5mY8qv7MTjbjsePOiWXoPy/2Tw2srdWnxelr7gaJP35NEZFyMZdwDBdzScf/zsxoRD1R2l7kTgkDtN3w42k90TXFPGYaBFbd6vH6mMWoJysCdL9+/XDr2JKEXROcGpffgKsHxN89L1qqs7l2OmdYEu22Z3fWHDAvJvvq6BWOa3Witb0DVys6Z1jeqUy8ccmtY0vi7tIYbZUL/Zl/OafS1pKgY+fM5RfzKvYl/b3c3g7+tnEl+GOc/sxOtoO344k3qvCdyati/t22D93pN52IqMevT4jIH8VcwtGS9oGIeqy0vcidEgZou+HH03qia4p5zDQIrLrV4/Uxi1FP1gTowUu34NrB+Qm7Tzjx2zc34o4JZbbum+ps7pRidecMS86S+Lvt2Z01B4DpJTsRCBpoakmtnVkie09eRCBoYFHVQeV91+0xZ3NXxVjKYO3SOLVYPZtpdfRItDZXRdVv2hIKhXDdkHwMX578ro7951Ul3KXRqUdfWx+3P/Okoh2uti98zqjHNXHWgOfa6GueKok/fv1BRBaKuYtpiZhbe9+ZoeGIeqC0vcidEgZou+HH03qia4p5zDQIrLrV4/Uxi1FP1gTo0objrq0lBYB7p6zC/7wef/e8aKnO5v7ZRucMS6Ld9pzMmlsdPeqPnHNcr13WMVF1zgCA4+HZ3LkxZnO3Hz2v3KXRkmp/ZqvftN2uLt+dWo5fzkm+BZ25S6N7PzkZumwL+sbpz/xHlzfQeXu9+VODw2e7X3vgVr/pRCT++PU3EfmqmBcjE6Vd2l7kTgkDtN3w42k90TXFPGYaBFbd6vH6mMWoJ2sCdHNrOz4/OA/D3k9+NtDS0RHC5wfnYeQH8XfPi5bqbO4D01fj57MSd86wFCXYbc/JrPnWI40IBA0YtR86KdWR11abvYJPXbisvG8oFML1Q/JjHr/8LWbYrztkbzbzrkkr467NVbFmzRP1m4721Fub8K3xpUl9Lzu7NDo1J9yf+cT57s/596epO7Q4sXa32a1k9c7uPb7/uqgGX1b0NU+VJB6/bhORX4V///+J2dGHKC3S+kJ3Qhig7YYfT+uJrinmMdMgsOpWj9fHLEY9WROgAbPjwzfHlabUgQEAPmw0d897c91+W/dPZTY3FArhCzb6TVus3fbeq+4e8JzMml+8bHb0mFG6y1G9TgxeugVfGJZ4t7po979QjsdjzOa+VGb2Nz7fHL+/cbQn5ybfn/mjftP2NuaZULAdVw3IRauNWf+urF0a3bz41erPvGFf51n/UCiEvi71m7YcbQyvAY9xnvzYpX7TiUj88WuYiHwgZhcfEZHPisjaTIxF1DOl9YXuhDBA2w0/ntYTXVPMY6ZBYNWtHq+PWYx6sipAW5t27Dp+IcHZrLZ2lzmztmZX/N3zoqUym3sq3DnjNRudM4D4u+05nTUHgK+MLsZfFtY4qteJn89ajwemx16PG8tTb2/C7TFmc/+2uAb9RtmfzUylP7M1a67qN21ZvNHsA77nhPPXnJ1dGp3af8qcQV+4ofO68xPnzdfZHBf6TVtCoRCuHZyPEcu7v+ZuGVmE4Lup95tOROKPXzUi8g8isjnqa3VpH4iox0rrC90JYYC2G348rSe6ppjHTIPAqls9Xh+zGPVkVYC2ZvReXbUnwdms9mY4iB+JsbYzFms2N15/5kQinTMa1J0zLN8cV4o/dOm04HTWHAB+OrMibkcPN9w6tgR/fid2R4hYJhaas7ktbZ1ncx96uUK5S2O0VPoz2+03bdm439zVccU2533ArX7TRxuTb7nXVVt7B3oPzMXz+Z07n2wIv87KbHRoceK+qeX4VZefejReMls7vqLoa54qiT9+bQj/Wh3+9ePCAE1plNYXuhPCAG03/HhaT3RNMY+ZBoFVt3q8PmYx6smqAA2Yyxgembkuzplsz6gP4ncXiCfZ2dxF4c4Ze210zrA8FmO3Paez5gCQs6QWN48ssn1/J5pb29Erx8CU4tg9iWN5Nzybu7vLbG6/UcX422L7z63VnznW2lyVn89ab6vftOX0RXNXx1nlzj+0Wbs0prrkqKs7JpbhN/M6995euMF8ne0/Zf91Zsfv3tqIb3dZd18T7jdd4FK/6Xgk/vj1rIjMFHM301+LyDoR+VOGhiPqgdL6QndCGKDthh9P64muKeYx0yCw6laP18csRj1ZF6CfD3eiOGdzvWws//P6Btw7JXZ/23iSnc21Omc4WUMba7c9p7PmADBzlbm2uLEp+ecqHqtzxrLNsXfFi2XTAXM2tzhqV8fz4V0aXyqzP5uZSn9mu/2mLaFQCDcO///bu/8gq8r7juOfBGlm2sSmxqaTztRdrR0nxrGdaGbMaJKSNsY2DTapNG2D9gczxjraJG10RX64DSYBNEKFKGnUMAGNFUckLgosv4ygEBCW5ZdAGzeiosFfoIk/gH36xznP3sPdc/c+z3N/nHPveb9mznD37o/73XMO5372uc/9PsvN9Q/49wH/p7s2Oq3S6GvC/J8N689s+027dGjxMXPZ7mFzwG2/6b0Ofc1roZGvX5+RdJOkm+PbQMM09ET3IQK0a/jJtJ5kTanHLAeBNW/1ZH3MUuppuwBtX6qupbtE2gheNaGjuWkjeNX8MO60kFxtL2TUfPmOA6ajq8dsfeZVr8d38cj26Gdv2+/+s19JGc3t3/9avEqj+/G0/ZnT5uaOxI6au/SbTho7d535hx/4v+rhukqjr7Rz4Ss/2mzG1LHftJX2CsotK9z7mtdC7tevUZK+3MBLEAquoSe6DxGgXcNPpvUka0o9ZjkIrHmrJ+tjllJP2wXoI0ePmbO7lwe/Oe5IvHpe+RzSakJHcz8769Fhc0irWZuy2l7IqPm+Fw9X7OhRK9s5w/eVgD/+z+VmYmI0167S+NQBv9HMkP7MPv2mk75271bz8W/79QG3/aZdVmn0tXDDwLD+zFG/ab/zzMXmgegP1lW7S68aXH3PFnP+9Pr1m65Ew69fJ0qaKGmupAsVvZHwKkUrES5p6kUJhdLwk92VCNCu4SfTepI1pR6zHATWvNWT9TFLqaftArQx0RP4OdNWBHVhGOpi4LB6XpLtz+wzmnvsWNTFwKdzhjHpq+2NuXmNuWKB32jmW0eORh09VrjPU3Z17aJtXp0zrL/+3jrz9/9dGs2d3bs3aDTzyrv9+zPbftO+q+f918qoD7hPjb79pn3Y/sx2Pnwj+k1bdg54sovM5+fUt990JRp+/Voiab6kr0i6T1KvpEcl/UlTL0gonIaf7K5EgHYNP5nWk6wp9ZjlILDmrZ6sj1lKPW0ZoO0czJCpCasr9NGtJmQ013bOSOujO5Ly1fZCR82NMeaCGauGdfSoh3G3P24uuX299/d9/d6t5rzEaK7PKo1JIf2Z7aj5656r5y3pe850dPWY3Qfc+4CX+k37nWcuys8r251m4Qa/88yF7WM+aXH/0MdnTV1mptSx33QlGn792p64PUrSq5Le17QLEQqr4Se7KxGgXcNPpvUka0o9ZjkIrHmrJ+tjllJPWwboV954O3hk1a7kdtBh9bykkNHc8pFCH8nV9kJHzY2JOnr81a3uvZpdnXujX+cM69Z4NPfXb0ejuWPnrnNepTHp/oD+zNcs6jPnBqyet/1Z/3navv2mfZS/srFuX/37TSclj9HB1+vfb7oSDb9+banyMdAQDT/ZXYkA7Rp+Mq0nWVPqMctBYM1bPVkfs5R62jJAG2PMF29bHxQMpzy43Zw11X31vCTf0dy0uaquJswvrbYXOmpujDFTH9xuPhL4+1ZiO2d8b43/Koc/iUdzdz1/aNjopg/bnzk5N7ca337T1utxH3Cf33fS4n6vVRp9JefW2wWGnn/N/zxzkXyVwL6Jd3Wd+02n0fDr1zFJh+PtdUlHE7cPN/WihEJp+MnuSgRo1/CTaT3JmlKPWQ4Ca97qyfqYpdTTtgF67up9UaeKQ36LVIy/Y4P5vMfqeUm+o7k39vh3zrCSq+2FjpobU+ro8cvD/t9bSciIbPn3Ptz/fOr8WldpHT2qOWdar7l2Udjqeb4j7r79pn3968LNZkzc3eWbD0X9pkPOMxfJeer/s6kx/abTqE2uX2h9DT/ZXYkA7Rp+Mq0nWVPqMctBYM1bPVkfs5R62uIJKC1A73zuUOqSxtWcP32VuTpwTrDvaG5av15Xd28orbZXy6j5mnj0euPP6zcXN2ROsGVHc+eu3pfa4cHH2d3LnUevQ/pNJ/nO+fZdpdGX7S9+5Ogx888BHVp8JDulTE88bqOpTa5faH0NP9ldiQDtGn4yrSdZU+oxy0FgzVs9WR+zlHra4gkoLUAPDg6a87690qufs+0DfEtgV4q0/swjCek3bSVX26tl1PwXLw3v6FGr2b3+XSmSPnZjr/nGfX1mUTyP2WeVxqSLPfozl/pNh62eF3UdcesD/uY7R01Hl3+/aR+2P/PTB98wYxrUb9pK7rsrFjSm33Qatcn1C62vKSe8CxGgXcNPpvUka0o9ZjkIrHmrJ+tjllJPWzwBpQVoY4yZ+EC/OXPKI+atI25Bbu8LUSeNxVvcV89L8hnNPXL0mDn9+qXmOw+H9QE+8Fpptb1aRs1rrSNNSF/kpHHzHjd/c9v61FXufOtw7eBhR819+01bPn2vQ1Zp9LUpnou8YucL5g8nLjUzAjq0uEqO3n921qPmXzz7modSm1y/0PqacsK7EAHaNfxkWk+yptRjloPAmrd6sj5mKfW0xRNQpQDdG/dmfmyvW/eBZfHKfH2BK/P5jOYOdc7wnGJiDQ5GnRYmLe6vadTcGGM+ffOaoY4e9RC6Mp/VdX80mnvlwie9V2lM8unPHNpv2vJZedH2m+7f79dv2sdLcTeMqQ9uNx1dPea+gA4tPs6ZFr1qcMbkh800z77modQm1y+0vqac8C5EgHYNP5nWk6wp9ZjlILDmrZ6sj1lKPW3xBFQpQP/q7SPmjyY97Lyk87y18WqCv/ZbPc/yGc2tx9zji2b/1Jw/fVVNo+bG1DYXu5ztnHH9A/6dM6zb4+Nw/vRV3qsJJvmMKvuMVqfxGVW2o9WHPVdp9DE4OGjOumHZ0PmxKaBDi49Lbl8/9FgLnhho6GNZapPrF1pfU054FyJAu4afTOtJ1pR6zHIQWPNWT9bHLKWetngCqhSgjTHmsjs3Oo9idt2/zXz0m27zWCtxHc29qw7dL65c+KTp6OqpadTcmNq6gZR7OaD7RTn7SkBHV4/zHz9pfLqBhPabtuz8+Vm91V8JuGZRX9Aqjb7GznlsaD++FNChxcc1i/qGHmt9QF/zEGqT6xdaX1NOeBciQLuGn0zrSdaUesxyEFjzVk/Wxyylnjw+AY2TtFPSoKRzXb5hpAA9f/3Tzm9E+9t47m0tJszf5DSaO7WGzhnWTcueGgotoaPmxpQ6eoT0oy4X0n+5nJ2LHrJKY5Lt6FGts4YdNZ+8uLbV81w7a4T2m/b11R9vMR1dPQ3tN23ZUfVG9psup3xev1BATTnhXYgA7Rp+Mq0nWVPqMctBYM1bPVkfs5R68vgE9GFJZ0haqzoE6Gde/pVzL+GP3dhr/uM+/9XzklxHc8ffsaHmFQBtl4paR83tioiuc8VdavJZAbCcHc2tR00u/Zlr6Ted9OUfbDBjHbqhnDMtbJVGX7N695iOrh6nmmpl53WfMbk+r2S4UD6vXyigppzwLkSAdg0/mdaTrCn1mOUgsOatnqyPWUo9eX4CWqs6BGhjomWvq708/0ai/3AtXEdzL5gR3jnDsqO9tY6aD3X0eGKgpp9jTDQqXkvnDMvOp611VHzcvOqjvXY/rt5d2+p5kxdvrzraW2u/aR+2P3Mj+01bdg54I/tNl1O+r18okKad9NWIAO0afjKtJ1lT6jHLQWDNWz1ZH7OUevL8BLRWdQrQ31q6y5x+/VLztXu3VtwmzN9kOrp6zNJ+/9Xzkuxo7qV3bhzx8U69rsd8t4bOGcaURk5rHTW3HT0uvOXREWt22T4xY7X51MzVNdVjTDRCX4952dcu2mbOnPLIiDWPm/d4Tf2mrTsei+a1X3XPlqrnWcgqjb627X/VdHS5zcuule1tfcWCxvWbLqd8X79QIE076atRCwTorOVtH+WtHmM4ZtUo2wC9UtI9bNriAAAHAElEQVSOlO3ixNes1cgB+nJF9W8+5ZRTRvxddx84ZP7su2vNJ2asHnG7aPZPzQueS3+XO/TmO2bsnMeqPtaYm9eYzQOv1PRYg4OD5qp7tpiVu8LnG1sTH+ivWrPrVusfBsZEC4HcsGRHzT+nd+cL5lMzq9f8d99/oubV8546cNj8ueN55rrYTi3efOeoufTOjQ1tl5d0zaI+89C255ryWMYQoJEfTTvpq1HOgoYxhLFq8laPMRyzalSgEWgA7Uf5vn6hQLL+vzBEOQsaxhDGqslbPcZwzKoRARpAC1O+r18oEMPGxla4LY9PQF+Q9KyktyW9KGl5tW8gQAPFo3xev1BABxXPJ2RjYyvMdlBtgAANFI+iaxgAAAhBgAaKRwRoAADCEaCB4hEBGgCAcARooHhEgAYAIBwBGigeEaABAAhHgAaKRwRoAADCEaCB4hEBGgCAcARooHhEgAYAIBwBGigeEaABAAhHgAaKRwRoAADCEaCB4hEBGgCAcARooHhEgAYAIBwBGigeEaABAAhHgAaKRwRoAADCEaCB4hEBGgCAcARooHhEgAYAIBwBGigeEaABAAhHgAaKRwRoAADCEaCB4hEBGgCAcARooHhEgAYAIBwBGigeEaABAAhHgAaKRwRoAADCEaCB4hEBGgCAITdJekpSv6TFkt5f7RsI0EDxiAANAMCQCyWdEN+eEW8jIkADxSMCNAAAqb4g6e5qX0SABopHBGgAAFI9JGl8tS8iQAPFIwI0AKBgVkrakbJdnPiaSYrmQL+rws+4XNET6GZJbyVut9I2kIMaqDm/WyvW3cyaDwoAAAz5R0lPSPpNx6/f3MBaGqkV66bm5mnFuluxZgAAWt5FknZJ+l2P72nVJ+1WrJuam6cV627FmgEAaHn/K2m/pL54m+fwPa36pN2KdVNz87Ri3a1YMwAAhXR51gUEasW6qbl5WrHuVqwZAAAAAAAAAAAAAFAXF0nao2ju9HUZ1+JqQNJ2RXO88zxn9C5Jv1TUYtA6SVKvpH3xv7+TQV0jSau5W9JzKs2r/8vmlzWiP5C0RtJuSTslfTW+P8/7ulLN3cr3vgYAoPBGSfo/SadJ+g1J2ySdmWlFbgYknZx1EQ4+KemjOj6MzlTpD5Xr5LDUepOl1dwt6RuZVOPmQ4pqlqT3Sdqr6DzO876uVHO38r2vAQAovI9LWp74eGK85d2AWiNAS1Knjg+jexSFJ8X/7ml2QQ461VoButwSSZ9Ra+xry9bcrdba1wAAFM4lku5IfHyppLkZ1eLjaUlbJD2p/Hct6NTxYfS1ss+/2rxSnHVqeIAekNSvaIpHnqZClOuU9IykE9Ua+1o6vuZutc6+BgCgkMZpeICek1EtPn4//veDiqadfDLDWqrpVOsH6N9TNN3n3ZK+pSjY5dF7Ff1R9cX441bY1+U1t8q+BgCgsFp1CkdSt/L9knenWn8Kh+vnsjRa0bn874n78r6v02pO6lQ+9zUAAIV2gqSfSzpVpTcRfiTTiqr7LUVvurK3H1fUSSSvOnV8CLpJx7+xbWazC3LQqeNr/lDi9tcl3dvUaqp7l6QfSZpddn+e93WlmvO+rwEAgKI2WXsVdeOYlHEtLk5TFPS3KWr/leeafyzpgKQjkp6VNEHSByStUtRabZWiVmt5klbzAkVtA/sl/UTHh7w8uECSUVRfsv1bnvd1pZrzvq8BAAAAAAAAAAAAAAAAAAAAAAAAAAAAAAAAAAAAtKxjKrU/61Op33ElV0i6rA6POyDp5Dr8HAAAAKCp3sjocQdEgAYAAEALqhSgByTNkPSzeDs9vr9bpSXP/03SLkWLddiV7k6S9GB83wZJZ8f3f0DSCklbJX1f0i9UCtDj48foiz83qqbfCAAAAGig8ikcX4rvH1BpdcbLJPXEt7tVCtDPS3pPfPv98b9zJN0Q3/50/DMl6VZJU+Pbn1O0et7Jkj4s6SFJo+PP3ab6TBEBAAAAGmKkEejT4tujJb0c3+5WKUAvk3S/ohHk98b3bU18nyTtl/TbioJ08v5XFAXoqxQFcRvg98SPAQAAAOTSSAH61Pj2aEkvxbe7VQrQoySNkTRLUfA9QcOD8n5JJ8b3n5q43wboqyV9p4b6AQAAgKYaKUDbjhzjFU2zkEoB+t2SOuP7Rkt6UdE0jlslTYnv/1NFI9KK758c3/4LlaZwnClpn6QPxp87SVJH0G8CAAAANEH5HOjp8f0DiuYyb5S0ScPfRDha0jpJ2yXtUClsnyRpiSq/iXCLohHr5JsIvxQ/dr+kJyWdV89fEAAAAGiGAdFmDgAAAHA2IAI0AAAAAAAAAAAAAAAAAAAAAAAAAAAAAAAAAAAAAAAAAAAAAAAAAAAAAAAAAAAAAAAAAAAAAAAAAAAAAAA59f/MCdMeMRwbnwAAAABJRU5ErkJggg==\" width=\"720\">"
      ],
      "text/plain": [
       "<IPython.core.display.HTML object>"
      ]
     },
     "metadata": {},
     "output_type": "display_data"
    },
    {
     "name": "stdout",
     "output_type": "stream",
     "text": [
      "episode : 0\n",
      "Saved model to disk\n"
     ]
    }
   ],
   "source": [
    "interactive = True\n",
    "%matplotlib nbagg\n",
    "\n",
    "#agent = DQNAgent(8 , 4*4)\n",
    "#agent = DQNAgent(8 , 4)\n",
    "\n",
    "experiment = Experiment(env, agent, debug_print_interval=200)\n",
    "\n",
    "#experiment.run_agent( max_number_of_episodes=5, max_number_of_steps=100, interactive = True, display_frequency=1)#\n",
    "experiment.run_qlearning( max_number_of_episodes=40,  interactive = True, display_frequency=1)"
   ]
  },
  {
   "cell_type": "code",
   "execution_count": null,
   "metadata": {},
   "outputs": [],
   "source": []
  },
  {
   "cell_type": "code",
   "execution_count": null,
   "metadata": {},
   "outputs": [],
   "source": []
  },
  {
   "cell_type": "code",
   "execution_count": 4,
   "metadata": {},
   "outputs": [
    {
     "data": {
      "text/plain": [
       "<matplotlib.image.AxesImage at 0x2089ad80e10>"
      ]
     },
     "execution_count": 4,
     "metadata": {},
     "output_type": "execute_result"
    },
    {
     "data": {
      "image/png": "[encoded data removed]",
      "text/plain": [
       "<Figure size 432x288 with 1 Axes>"
      ]
     },
     "metadata": {
      "needs_background": "light"
     },
     "output_type": "display_data"
    }
   ],
   "source": [
    "state = env.reset()\n",
    "state\n",
    "\n",
    "imshow(env.render(mode='rgb_array'))"
   ]
  },
  {
   "cell_type": "code",
   "execution_count": 5,
   "metadata": {
    "scrolled": true
   },
   "outputs": [
    {
     "data": {
      "text/plain": [
       "<matplotlib.image.AxesImage at 0x2089ae12b70>"
      ]
     },
     "execution_count": 5,
     "metadata": {},
     "output_type": "execute_result"
    },
    {
     "data": {
      "image/png": "[encoded data removed]",
      "text/plain": [
       "<Figure size 432x288 with 1 Axes>"
      ]
     },
     "metadata": {
      "needs_background": "light"
     },
     "output_type": "display_data"
    }
   ],
   "source": [
    "state = env.step( 6)\n",
    "imshow(env.render(mode='rgb_array'))"
   ]
  },
  {
   "cell_type": "code",
   "execution_count": 6,
   "metadata": {
    "scrolled": true
   },
   "outputs": [
    {
     "data": {
      "text/plain": [
       "<matplotlib.image.AxesImage at 0x2089ae767b8>"
      ]
     },
     "execution_count": 6,
     "metadata": {},
     "output_type": "execute_result"
    },
    {
     "data": {
      "image/png": "[encoded data removed]",
      "text/plain": [
       "<Figure size 432x288 with 1 Axes>"
      ]
     },
     "metadata": {
      "needs_background": "light"
     },
     "output_type": "display_data"
    }
   ],
   "source": [
    "env.step( 0)\n",
    "imshow(env.render(mode='rgb_array'))"
   ]
  },
  {
   "cell_type": "code",
   "execution_count": 7,
   "metadata": {},
   "outputs": [
    {
     "data": {
      "image/png": "[encoded data removed]",
      "text/plain": [
       "<Figure size 432x288 with 1 Axes>"
      ]
     },
     "metadata": {
      "needs_background": "light"
     },
     "output_type": "display_data"
    }
   ],
   "source": [
    "state = env.step(1 )\n",
    "imshow(env.render(mode='rgb_array'))\n",
    "if state[2]:\n",
    "    print('!!!!!!!!!!!!!!!****')\n",
    "    print('!!!!!!!!!!!!!!!****')\n",
    "    print('!!!!!!!!!!!!!!!****')"
   ]
  },
  {
   "cell_type": "code",
   "execution_count": 68,
   "metadata": {},
   "outputs": [
    {
     "data": {
      "text/plain": [
       "((array([[ 0,  0,  0, -1,  0,  0,  1],\n",
       "         [-1,  0,  0,  1,  0,  0, -1],\n",
       "         [-1,  1,  0, -1,  1, -1, -1],\n",
       "         [ 1, -1,  1,  1,  1, -1,  1],\n",
       "         [ 1,  1, -1, -1, -1,  1, -1],\n",
       "         [-1,  1, -1,  1, -1,  1,  1]]), 0, 3), 0, False, '')"
      ]
     },
     "execution_count": 68,
     "metadata": {},
     "output_type": "execute_result"
    }
   ],
   "source": [
    "env.step( 3)"
   ]
  },
  {
   "cell_type": "code",
   "execution_count": 9,
   "metadata": {},
   "outputs": [
    {
     "name": "stdout",
     "output_type": "stream",
     "text": [
      "check win\n",
      "(-1, 4, 4)\n",
      "check win\n",
      "(1, 3, 4)\n"
     ]
    },
    {
     "data": {
      "text/plain": [
       "((array([[ 0,  0,  0,  0,  0,  0,  0],\n",
       "         [ 0,  0,  0,  0,  0,  0,  0],\n",
       "         [ 0,  0,  0,  0,  0,  0,  0],\n",
       "         [ 0,  0,  0,  0,  1,  0,  0],\n",
       "         [ 0,  0,  0, -1, -1,  0,  1],\n",
       "         [ 1,  1,  0,  1, -1, -1, -1]]), 4, 4), 0, False, '')"
      ]
     },
     "execution_count": 9,
     "metadata": {},
     "output_type": "execute_result"
    }
   ],
   "source": [
    "env.step( 4)"
   ]
  },
  {
   "cell_type": "code",
   "execution_count": 10,
   "metadata": {},
   "outputs": [
    {
     "name": "stdout",
     "output_type": "stream",
     "text": [
      "check win\n",
      "(-1, 4, 5)\n",
      "check win\n",
      "(1, 3, 3)\n"
     ]
    },
    {
     "data": {
      "text/plain": [
       "((array([[ 0,  0,  0,  0,  0,  0,  0],\n",
       "         [ 0,  0,  0,  0,  0,  0,  0],\n",
       "         [ 0,  0,  0,  0,  0,  0,  0],\n",
       "         [ 0,  0,  0,  1,  1,  0,  0],\n",
       "         [ 0,  0,  0, -1, -1, -1,  1],\n",
       "         [ 1,  1,  0,  1, -1, -1, -1]]), 4, 5), 0, False, '')"
      ]
     },
     "execution_count": 10,
     "metadata": {},
     "output_type": "execute_result"
    }
   ],
   "source": [
    "env.step( 5)"
   ]
  },
  {
   "cell_type": "code",
   "execution_count": 11,
   "metadata": {},
   "outputs": [
    {
     "name": "stdout",
     "output_type": "stream",
     "text": [
      "check win\n",
      "(-1, 5, 2)\n",
      "check win\n",
      "(1, 4, 1)\n"
     ]
    },
    {
     "data": {
      "text/plain": [
       "((array([[ 0,  0,  0,  0,  0,  0,  0],\n",
       "         [ 0,  0,  0,  0,  0,  0,  0],\n",
       "         [ 0,  0,  0,  0,  0,  0,  0],\n",
       "         [ 0,  0,  0,  1,  1,  0,  0],\n",
       "         [ 0,  1,  0, -1, -1, -1,  1],\n",
       "         [ 1,  1, -1,  1, -1, -1, -1]]), 5, 2), 0, False, '')"
      ]
     },
     "execution_count": 11,
     "metadata": {},
     "output_type": "execute_result"
    }
   ],
   "source": [
    "env.step( 2)"
   ]
  },
  {
   "cell_type": "code",
   "execution_count": 12,
   "metadata": {},
   "outputs": [
    {
     "name": "stdout",
     "output_type": "stream",
     "text": [
      "check win\n",
      "(-1, 4, 2)\n"
     ]
    },
    {
     "data": {
      "text/plain": [
       "((array([[ 0,  0,  0,  0,  0,  0,  0],\n",
       "         [ 0,  0,  0,  0,  0,  0,  0],\n",
       "         [ 0,  0,  0,  0,  0,  0,  0],\n",
       "         [ 0,  0,  0,  1,  1,  0,  0],\n",
       "         [ 0,  1, -1, -1, -1, -1,  1],\n",
       "         [ 1,  1, -1,  1, -1, -1, -1]]), 4, 2), 1, True, '')"
      ]
     },
     "execution_count": 12,
     "metadata": {},
     "output_type": "execute_result"
    }
   ],
   "source": [
    "env.step( 2)"
   ]
  },
  {
   "cell_type": "code",
   "execution_count": 22,
   "metadata": {},
   "outputs": [],
   "source": [
    "a = np.random.randint( -1 , 1 , ( 6,7) ).astype(int)"
   ]
  },
  {
   "cell_type": "code",
   "execution_count": 18,
   "metadata": {},
   "outputs": [
    {
     "data": {
      "text/plain": [
       "array([[ 0,  0,  0,  0,  0,  0,  0],\n",
       "       [ 0,  0,  0,  0,  0,  0,  0],\n",
       "       [ 0,  0,  0,  0,  0,  0,  0],\n",
       "       [-1,  0,  0,  0,  0,  0, -1],\n",
       "       [ 1,  1,  0,  0,  1,  1, -1],\n",
       "       [ 1,  1,  1, -1, -1, -1, -1]])"
      ]
     },
     "execution_count": 18,
     "metadata": {},
     "output_type": "execute_result"
    }
   ],
   "source": [
    "env.board"
   ]
  },
  {
   "cell_type": "code",
   "execution_count": 17,
   "metadata": {},
   "outputs": [
    {
     "name": "stdout",
     "output_type": "stream",
     "text": [
      "[1 1 0 0]\n",
      "False\n",
      "[1 0 0 1]\n",
      "False\n",
      "[0 0 1 1]\n",
      "False\n",
      "[ 0  1  1 -1]\n",
      "False\n"
     ]
    },
    {
     "data": {
      "text/plain": [
       "array([ 1,  1,  0,  0,  1,  1, -1])"
      ]
     },
     "execution_count": 17,
     "metadata": {},
     "output_type": "execute_result"
    }
   ],
   "source": [
    "for i in range( 0 , env.in_row_count):\n",
    "    a = np.sum( env.board[ 4, i:i+env.in_row_count]) == (4 * env.in_row_count )\n",
    "    print(env.board[ 4, i:i+env.in_row_count])\n",
    "    print (a)\n",
    "\n",
    "env.board[4, :]"
   ]
  },
  {
   "cell_type": "code",
   "execution_count": 12,
   "metadata": {},
   "outputs": [
    {
     "data": {
      "text/plain": [
       "array([[ 0,  0,  0,  0,  0,  0,  0],\n",
       "       [ 0,  0,  0,  0,  0,  0,  0],\n",
       "       [ 0,  0,  0,  0,  0,  0,  0],\n",
       "       [-1,  0,  0,  0,  0,  0, -1],\n",
       "       [ 1,  1,  0,  0,  1,  1, -1],\n",
       "       [ 1,  1,  1, -1, -1, -1, -1]])"
      ]
     },
     "execution_count": 12,
     "metadata": {},
     "output_type": "execute_result"
    }
   ],
   "source": [
    "env.board"
   ]
  },
  {
   "cell_type": "code",
   "execution_count": 36,
   "metadata": {},
   "outputs": [
    {
     "data": {
      "text/plain": [
       "(array([0, 4, 6], dtype=int64),)"
      ]
     },
     "execution_count": 36,
     "metadata": {},
     "output_type": "execute_result"
    }
   ],
   "source": [
    "np.where( a[0,:] == 0)\n"
   ]
  },
  {
   "cell_type": "code",
   "execution_count": 29,
   "metadata": {},
   "outputs": [
    {
     "data": {
      "text/plain": [
       "array([[ 0,  1, -1, -1,  0, -1,  0],\n",
       "       [-1,  0,  0,  0, -1,  0, -1],\n",
       "       [ 0, -1,  0, -1,  0, -1, -1],\n",
       "       [ 0,  0,  0, -1,  0, -1,  0],\n",
       "       [-1,  0, -1,  0, -1, -1,  0],\n",
       "       [-1, -1,  0,  0, -1,  0,  0]])"
      ]
     },
     "execution_count": 29,
     "metadata": {},
     "output_type": "execute_result"
    }
   ],
   "source": [
    "a"
   ]
  },
  {
   "cell_type": "code",
   "execution_count": null,
   "metadata": {},
   "outputs": [],
   "source": []
  }
 ],
 "metadata": {
  "kernelspec": {
   "display_name": "Python 3",
   "language": "python",
   "name": "python3"
  },
  "language_info": {
   "codemirror_mode": {
    "name": "ipython",
    "version": 3
   },
   "file_extension": ".py",
   "mimetype": "text/x-python",
   "name": "python",
   "nbconvert_exporter": "python",
   "pygments_lexer": "ipython3",
   "version": "3.6.7"
  }
 },
 "nbformat": 4,
 "nbformat_minor": 2
}
